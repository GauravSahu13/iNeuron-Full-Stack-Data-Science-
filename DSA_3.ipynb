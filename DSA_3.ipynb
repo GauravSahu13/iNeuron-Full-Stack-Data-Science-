{
  "nbformat": 4,
  "nbformat_minor": 0,
  "metadata": {
    "colab": {
      "provenance": []
    },
    "kernelspec": {
      "name": "python3",
      "display_name": "Python 3"
    },
    "language_info": {
      "name": "python"
    }
  },
  "cells": [
    {
      "cell_type": "code",
      "execution_count": null,
      "metadata": {
        "id": "pJ0K07uF3vqb"
      },
      "outputs": [],
      "source": []
    },
    {
      "cell_type": "markdown",
      "source": [],
      "metadata": {
        "id": "e5FxfJbH4Gs9"
      }
    },
    {
      "cell_type": "markdown",
      "source": [
        "<aside>\n",
        "💡 Given an integer array nums of length n and an integer target, find three integers\n",
        "in nums such that the sum is closest to the target.\n",
        "Return the sum of the three integers.\n",
        "\n",
        "You may assume that each input would have exactly one solution.\n",
        "\n",
        "**Example 1:**\n",
        "Input: nums = [-1,2,1,-4], target = 1\n",
        "Output: 2\n",
        "\n",
        "**Explanation:** The sum that is closest to the target is 2. (-1 + 2 + 1 = 2).\n",
        "\n",
        "</aside>\n",
        "\n"
      ],
      "metadata": {
        "id": "P1YV5UH_32oG"
      }
    },
    {
      "cell_type": "code",
      "source": [
        "class Solution:\n",
        "    def threeSumClosest(self, nums, target):\n",
        "\n",
        "        n=len(nums)\n",
        "        nums.sort()\n",
        "        diff=20001\n",
        "        val=0\n",
        "        for i in range(n):\n",
        "            a=i+1\n",
        "            b=n-1\n",
        "            while(a<b):\n",
        "                cc=nums[i]+nums[a]+nums[b]\n",
        "                kk=abs(cc-target)\n",
        "                if(kk<diff):\n",
        "                    diff=kk\n",
        "                    val=cc\n",
        "                if(cc==target):\n",
        "                    return target\n",
        "                elif(cc<target):\n",
        "                    a+=1\n",
        "                else:\n",
        "                    b-=1\n",
        "            \n",
        "        return val\n",
        "\n",
        "s1= Solution()\n",
        "s1.threeSumClosest([-1,2,1,-4],1)"
      ],
      "metadata": {
        "colab": {
          "base_uri": "https://localhost:8080/"
        },
        "id": "FZ0eSq6x4EtW",
        "outputId": "327b703b-4152-463f-85af-39f8fc35bfe2"
      },
      "execution_count": 1,
      "outputs": [
        {
          "output_type": "execute_result",
          "data": {
            "text/plain": [
              "2"
            ]
          },
          "metadata": {},
          "execution_count": 1
        }
      ]
    },
    {
      "cell_type": "markdown",
      "source": [
        "Given an array nums of n integers, return an array of all the unique quadruplets\n",
        "[nums[a], nums[b], nums[c], nums[d]] such that:\n",
        "           ● 0 <= a, b, c, d < n\n",
        "           ● a, b, c, and d are distinct.\n",
        "           ● nums[a] + nums[b] + nums[c] + nums[d] == target\n",
        "\n",
        "You may return the answer in any order."
      ],
      "metadata": {
        "id": "1BdoIBfZ4RQz"
      }
    },
    {
      "cell_type": "markdown",
      "source": [],
      "metadata": {
        "id": "4b9jee585hYR"
      }
    },
    {
      "cell_type": "code",
      "source": [
        "class Solution:\n",
        "   def twoSum(self, nums, target):\n",
        "       seen = {}\n",
        "       for i, value in enumerate(nums): \n",
        "           remaining = target - nums[i]\n",
        "           \n",
        "           if remaining in seen: \n",
        "               return [i, seen[remaining]]  \n",
        "           else:\n",
        "               seen[value] = i  \n",
        "\n",
        "s1= Solution()\n",
        "s1.twoSum([1,0,-1,0,-2,2],0)"
      ],
      "metadata": {
        "colab": {
          "base_uri": "https://localhost:8080/"
        },
        "id": "77CYHYf04R2s",
        "outputId": "8a22ab08-9f1c-4c34-8f4d-4ef16baf17f4"
      },
      "execution_count": 3,
      "outputs": [
        {
          "output_type": "execute_result",
          "data": {
            "text/plain": [
              "[2, 0]"
            ]
          },
          "metadata": {},
          "execution_count": 3
        }
      ]
    },
    {
      "cell_type": "markdown",
      "source": [
        "<aside>\n",
        "💡 **Question 3**\n",
        "A permutation of an array of integers is an arrangement of its members into a\n",
        "sequence or linear order.\n",
        "\n",
        "For example, for arr = [1,2,3], the following are all the permutations of arr:\n",
        "[1,2,3], [1,3,2], [2, 1, 3], [2, 3, 1], [3,1,2], [3,2,1].\n",
        "\n",
        "The next permutation of an array of integers is the next lexicographically greater\n",
        "permutation of its integer. More formally, if all the permutations of the array are\n",
        "sorted in one container according to their lexicographical order, then the next\n",
        "permutation of that array is the permutation that follows it in the sorted container.\n",
        "\n",
        "If such an arrangement is not possible, the array must be rearranged as the\n",
        "lowest possible order (i.e., sorted in ascending order).\n",
        "\n",
        "● For example, the next permutation of arr = [1,2,3] is [1,3,2].\n",
        "● Similarly, the next permutation of arr = [2,3,1] is [3,1,2].\n",
        "● While the next permutation of arr = [3,2,1] is [1,2,3] because [3,2,1] does not\n",
        "have a lexicographical larger rearrangement.\n",
        "\n",
        "Given an array of integers nums, find the next permutation of nums.\n",
        "The replacement must be in place and use only constant extra memory.\n",
        "\n",
        "**Example 1:**\n",
        "Input: nums = [1,2,3]\n",
        "Output: [1,3,2]\n",
        "\n",
        "</aside>"
      ],
      "metadata": {
        "id": "zGh0ge2E9y1b"
      }
    },
    {
      "cell_type": "code",
      "source": [
        "class Solution:\n",
        "    def nextPermutation(self, arr):\n",
        "        bPoint, n = -1, len(arr)\n",
        "        for i in range(n-2,-1,-1):\n",
        "            if arr[i] >= arr[i+1]:   \n",
        "              bPoint = i                                        \n",
        "            for j in range(n-1,i,-1):                         \n",
        "                if arr[j] > arr[bPoint]:                      \n",
        "                    arr[j], arr[bPoint] = arr[bPoint], arr[j] \n",
        "                    break                                     \n",
        "            break                                            \n",
        "        arr[bPoint+1:] = reversed(arr[bPoint+1:])  \n",
        "\n",
        "s1=Solution()\n",
        "s1.nextPermutation([1,2,3])           "
      ],
      "metadata": {
        "id": "RH-8MQWU58dg"
      },
      "execution_count": 7,
      "outputs": []
    },
    {
      "cell_type": "code",
      "source": [],
      "metadata": {
        "id": "7yb1Z6uE-ZIG"
      },
      "execution_count": null,
      "outputs": []
    },
    {
      "cell_type": "markdown",
      "source": [
        "Given a sorted array of distinct integers and a target value, return the index if the\n",
        "target is found. If not, return the index where it would be if it were inserted in\n",
        "order.\n",
        "\n",
        "You must write an algorithm with O(log n) runtime complexity.\n",
        "\n",
        "Example 1:\n",
        "Input: nums = [1,3,5,6], target = 5\n",
        "Output: 2"
      ],
      "metadata": {
        "id": "ZnCjisCM-kLG"
      }
    },
    {
      "cell_type": "code",
      "source": [
        "class Solution:\n",
        "    def searchInsert(self, nums, target):\n",
        "        left,right=0,len(nums)-1\n",
        "        while left<=right:\n",
        "            mid=(left+right)//2\n",
        "            if nums[mid]==target:\n",
        "                return mid\n",
        "            elif nums[mid]<target:\n",
        "                left=mid+1\n",
        "            else:\n",
        "                right=mid-1\n",
        "        return left\n",
        "\n",
        "s1= Solution()\n",
        "s1.searchInsert([1,3,5,6],5)"
      ],
      "metadata": {
        "colab": {
          "base_uri": "https://localhost:8080/"
        },
        "id": "tToE3E7g-ktS",
        "outputId": "7b0a98c6-641a-4463-c752-ee900b3e1116"
      },
      "execution_count": 8,
      "outputs": [
        {
          "output_type": "execute_result",
          "data": {
            "text/plain": [
              "2"
            ]
          },
          "metadata": {},
          "execution_count": 8
        }
      ]
    },
    {
      "cell_type": "code",
      "source": [],
      "metadata": {
        "id": "PTagGNL_-5ot"
      },
      "execution_count": null,
      "outputs": []
    },
    {
      "cell_type": "markdown",
      "source": [
        "Given a non-empty array of integers nums, every element appears twice except\n",
        "for one. Find that single one.\n",
        "\n",
        "You must implement a solution with a linear runtime complexity and use only\n",
        "constant extra space.\n",
        "\n",
        "Example 1:\n",
        "Input: nums = [2,2,1]\n",
        "Output: 1"
      ],
      "metadata": {
        "id": "ngrxuQ-J-9mC"
      }
    },
    {
      "cell_type": "code",
      "source": [
        "class Solution(object):\n",
        "    def singleNumber(self, nums):\n",
        "        # Initialize the unique number...\n",
        "        uniqNum = 0\n",
        "        # TRaverse all elements through the loop...\n",
        "        for idx in nums:\n",
        "            # Concept of XOR...\n",
        "            uniqNum ^= idx\n",
        "        return uniqNum\n",
        "\n",
        "s1= Solution()\n",
        "s1.singleNumber([2,2,1])"
      ],
      "metadata": {
        "colab": {
          "base_uri": "https://localhost:8080/"
        },
        "id": "52Wr5GQu--Fk",
        "outputId": "c10dff1b-76a6-4bc6-dec7-7fbf3dfe1797"
      },
      "execution_count": 10,
      "outputs": [
        {
          "output_type": "execute_result",
          "data": {
            "text/plain": [
              "1"
            ]
          },
          "metadata": {},
          "execution_count": 10
        }
      ]
    },
    {
      "cell_type": "code",
      "source": [],
      "metadata": {
        "id": "WmdX-z30_Xrj"
      },
      "execution_count": null,
      "outputs": []
    },
    {
      "cell_type": "markdown",
      "source": [
        "You are given an inclusive range [lower, upper] and a sorted unique integer array\n",
        "nums, where all elements are within the inclusive range.\n",
        "\n",
        "A number x is considered missing if x is in the range [lower, upper] and x is not in\n",
        "nums.\n",
        "\n",
        "Return the shortest sorted list of ranges that exactly covers all the missing\n",
        "numbers. That is, no element of nums is included in any of the ranges, and each\n",
        "missing number is covered by one of the ranges.\n",
        "\n",
        "Example 1:\n",
        "Input: nums = [0,1,3,50,75], lower = 0, upper = 99\n",
        "Output: [[2,2],[4,49],[51,74],[76,99]]\n",
        "\n",
        "Explanation: The ranges are:\n",
        "[2,2]\n",
        "[4,49]\n",
        "[51,74]\n",
        "[76,99]"
      ],
      "metadata": {
        "id": "5hsClvls_cVL"
      }
    },
    {
      "cell_type": "code",
      "source": [
        "class Solution:\n",
        "\tdef summaryRanges(self, nums):\n",
        "\n",
        "\t\tstart = 0\n",
        "\t\tend = 0\n",
        "\n",
        "\t\tresult = []\n",
        "\n",
        "\t\twhile start < len(nums) and end<len(nums):\n",
        "\n",
        "\t\t\tif end+1 < len(nums) and nums[end]+1 == nums[end+1]:\n",
        "\t\t\t\tend=end+1\n",
        "\n",
        "\t\t\telse:\n",
        "\t\t\t\tif start == end:\n",
        "\t\t\t\t\tresult.append(str(nums[start]))\n",
        "\t\t\t\t\tstart = start + 1\n",
        "\t\t\t\t\tend = end + 1\n",
        "\t\t\t\telse:\n",
        "\t\t\t\t\tresult.append(str(nums[start])+str(nums[end]))\n",
        "\t\t\t\t\tstart = end + 1\n",
        "\t\t\t\t\tend = end + 1\n",
        "\n",
        "\t\treturn result\n",
        "\n",
        "s1= Solution()\n",
        "s1.summaryRanges([0,1,3,50,75])"
      ],
      "metadata": {
        "colab": {
          "base_uri": "https://localhost:8080/"
        },
        "id": "OnVdXhHi_s7O",
        "outputId": "17f43e06-2292-40d7-f4bb-fb329487e262"
      },
      "execution_count": 14,
      "outputs": [
        {
          "output_type": "execute_result",
          "data": {
            "text/plain": [
              "['01', '3', '50', '75']"
            ]
          },
          "metadata": {},
          "execution_count": 14
        }
      ]
    },
    {
      "cell_type": "code",
      "source": [],
      "metadata": {
        "id": "wHFk0-2yApX4"
      },
      "execution_count": null,
      "outputs": []
    }
  ]
}