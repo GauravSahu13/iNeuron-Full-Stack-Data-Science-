{
  "nbformat": 4,
  "nbformat_minor": 0,
  "metadata": {
    "colab": {
      "provenance": [],
      "authorship_tag": "ABX9TyN+KOCPIxseD1f2WAAwyiKA",
      "include_colab_link": true
    },
    "kernelspec": {
      "name": "python3",
      "display_name": "Python 3"
    },
    "language_info": {
      "name": "python"
    }
  },
  "cells": [
    {
      "cell_type": "markdown",
      "metadata": {
        "id": "view-in-github",
        "colab_type": "text"
      },
      "source": [
        "<a href=\"https://colab.research.google.com/github/GauravSahu13/iNeuron-Full-Stack-Data-Science-/blob/classWork/Pattern.ipynb\" target=\"_parent\"><img src=\"https://colab.research.google.com/assets/colab-badge.svg\" alt=\"Open In Colab\"/></a>"
      ]
    },
    {
      "cell_type": "code",
      "execution_count": null,
      "metadata": {
        "id": "8v4L9AlWXMX5"
      },
      "outputs": [],
      "source": [
        "# pattern questions\n",
        "\"\"\"step 1 : for outer loop , count the no. of lines\n",
        "step 2 : for inner loop , focus on the colums & connect them somehow to rows\n",
        "step 3 : print them \"*\" inside inner for loop\n",
        "step 4: observe symmetry (optional)\"\"\""
      ]
    },
    {
      "cell_type": "code",
      "source": [
        "n = int(input(\"enter no. of rows \"))\n",
        "for i in range(n):\n",
        "  for j in range(n):\n",
        "    print(\"*\",end = \" \")\n",
        "  print(\"\\n\")\n",
        ""
      ],
      "metadata": {
        "colab": {
          "base_uri": "https://localhost:8080/"
        },
        "id": "wSj4b5fEXjVh",
        "outputId": "8e09dbd6-0072-45ad-fd46-fa1134b45640"
      },
      "execution_count": 4,
      "outputs": [
        {
          "output_type": "stream",
          "name": "stdout",
          "text": [
            "enter no. of rows 4\n",
            "* * * * \n",
            "\n",
            "* * * * \n",
            "\n",
            "* * * * \n",
            "\n",
            "* * * * \n",
            "\n"
          ]
        }
      ]
    },
    {
      "cell_type": "code",
      "source": [
        "n = int(input(\"enter no. of rows \"))\n",
        "for i in range(n):\n",
        "  for j in range(0 , i+1):\n",
        "    print(\"*\",end = \" \")\n",
        "  print(\"\\n\")\n"
      ],
      "metadata": {
        "colab": {
          "base_uri": "https://localhost:8080/"
        },
        "id": "sfWMy-J8YwQ3",
        "outputId": "46ac56e1-038d-4e64-b474-8c90777b3e31"
      },
      "execution_count": 7,
      "outputs": [
        {
          "output_type": "stream",
          "name": "stdout",
          "text": [
            "enter no. of rows 4\n",
            "* \n",
            "\n",
            "* * \n",
            "\n",
            "* * * \n",
            "\n",
            "* * * * \n",
            "\n"
          ]
        }
      ]
    },
    {
      "cell_type": "code",
      "source": [
        "n = int(input(\"enter no. of rows \"))\n",
        "for i in range(n):\n",
        "  for j in range(1 , i+2):\n",
        "    print(j,end = \" \")\n",
        "  print(\"\\n\")"
      ],
      "metadata": {
        "colab": {
          "base_uri": "https://localhost:8080/"
        },
        "id": "U0wOEan-apTJ",
        "outputId": "32ec624d-b7de-4d3b-8dfd-5d9e7f523b58"
      },
      "execution_count": 23,
      "outputs": [
        {
          "output_type": "stream",
          "name": "stdout",
          "text": [
            "enter no. of rows 4\n",
            "1 \n",
            "\n",
            "1 2 \n",
            "\n",
            "1 2 3 \n",
            "\n",
            "1 2 3 4 \n",
            "\n"
          ]
        }
      ]
    },
    {
      "cell_type": "code",
      "source": [
        "n = int(input(\"enter no. of rows \"))\n",
        "for i in range(1,n+1):\n",
        "  for j in range(0 , i):\n",
        "    print(i,end = \" \")\n",
        "  print(\"\\n\")"
      ],
      "metadata": {
        "colab": {
          "base_uri": "https://localhost:8080/"
        },
        "id": "9avhdJila9kH",
        "outputId": "c833ab52-7b5b-4c39-8a7e-0fa2f70f6084"
      },
      "execution_count": 30,
      "outputs": [
        {
          "output_type": "stream",
          "name": "stdout",
          "text": [
            "enter no. of rows 4\n",
            "1 \n",
            "\n",
            "2 2 \n",
            "\n",
            "3 3 3 \n",
            "\n",
            "4 4 4 4 \n",
            "\n"
          ]
        }
      ]
    },
    {
      "cell_type": "code",
      "source": [
        "n = int(input(\"enter no. of rows \"))\n",
        "for i in range(n):\n",
        "  for j in range(1 , n-i+1):\n",
        "    print(\"*\",end = \" \")\n",
        "  print(\"\\n\")"
      ],
      "metadata": {
        "colab": {
          "base_uri": "https://localhost:8080/"
        },
        "id": "mnehtXXfcC-Q",
        "outputId": "f2938ee4-7be0-4155-aa5a-512b8c9356fd"
      },
      "execution_count": 32,
      "outputs": [
        {
          "output_type": "stream",
          "name": "stdout",
          "text": [
            "enter no. of rows 4\n",
            "* * * * \n",
            "\n",
            "* * * \n",
            "\n",
            "* * \n",
            "\n",
            "* \n",
            "\n"
          ]
        }
      ]
    },
    {
      "cell_type": "code",
      "source": [
        "n = int(input(\"enter no. of rows \"))\n",
        "for i in range(n):\n",
        "  for j in range(1 , n-i+1):\n",
        "    print(j,end = \" \")\n",
        "  print(\"\\n\")"
      ],
      "metadata": {
        "colab": {
          "base_uri": "https://localhost:8080/"
        },
        "id": "zKYkDkqFcza6",
        "outputId": "bb56fe95-b000-4b3b-8833-556326e26869"
      },
      "execution_count": 33,
      "outputs": [
        {
          "output_type": "stream",
          "name": "stdout",
          "text": [
            "enter no. of rows 4\n",
            "1 2 3 4 \n",
            "\n",
            "1 2 3 \n",
            "\n",
            "1 2 \n",
            "\n",
            "1 \n",
            "\n"
          ]
        }
      ]
    },
    {
      "cell_type": "code",
      "source": [
        "n = int(input(\"enter no. of rows \"))\n",
        "for i in range(n):\n",
        "  for j in range(0 , n-i-1):\n",
        "    print(\" \",end = \" \")\n",
        "  for j in range(0,(2*i)+1):\n",
        "    print(\"*\",end = \" \")\n",
        "  for j in range(0 , n-i-1):\n",
        "    print(\" \",end = \" \")\n",
        "  print(\"\\n\")"
      ],
      "metadata": {
        "colab": {
          "base_uri": "https://localhost:8080/"
        },
        "id": "joGhP-_Bc-Qk",
        "outputId": "eee276de-e3a7-4818-9d0f-9dfbb2a482a9"
      },
      "execution_count": 39,
      "outputs": [
        {
          "output_type": "stream",
          "name": "stdout",
          "text": [
            "enter no. of rows 4\n",
            "      *       \n",
            "\n",
            "    * * *     \n",
            "\n",
            "  * * * * *   \n",
            "\n",
            "* * * * * * * \n",
            "\n"
          ]
        }
      ]
    },
    {
      "cell_type": "code",
      "source": [
        "n = int(input(\"enter no. of rows \"))\n",
        "for i in range(n):\n",
        "  for j in range(0 , i):\n",
        "    print(\" \",end = \" \")\n",
        "  for j in range(0, (2*n)-(2*i+1)):\n",
        "    print(\"*\",end = \" \")\n",
        "  for j in range(0 , i):\n",
        "    print(\" \",end = \" \")\n",
        "  print(\"\\n\")"
      ],
      "metadata": {
        "colab": {
          "base_uri": "https://localhost:8080/"
        },
        "id": "L_bGY7wzd7Vj",
        "outputId": "5e071add-b35f-452e-dccf-998ea952a232"
      },
      "execution_count": 43,
      "outputs": [
        {
          "output_type": "stream",
          "name": "stdout",
          "text": [
            "enter no. of rows 4\n",
            "* * * * * * * \n",
            "\n",
            "  * * * * *   \n",
            "\n",
            "    * * *     \n",
            "\n",
            "      *       \n",
            "\n"
          ]
        }
      ]
    },
    {
      "cell_type": "code",
      "source": [
        "n = int(input(\"enter no. of rows \"))\n",
        "for i in range(n):\n",
        "  for j in range(0 , n-i-1):\n",
        "    print(\" \",end = \" \")\n",
        "  for j in range(0,(2*i)+1):\n",
        "    print(\"*\",end = \" \")\n",
        "  for j in range(0 , n-i-1):\n",
        "    print(\" \",end = \" \")\n",
        "  print(\"\\n\")\n",
        "\n",
        "for i in range(n):\n",
        "  for j in range(0 , i):\n",
        "    print(\" \",end = \" \")\n",
        "  for j in range(0, (2*n)-(2*i+1)):\n",
        "    print(\"*\",end = \" \")\n",
        "  for j in range(0 , i):\n",
        "    print(\" \",end = \" \")\n",
        "  print(\"\\n\")"
      ],
      "metadata": {
        "colab": {
          "base_uri": "https://localhost:8080/"
        },
        "id": "2UJjMesxgJFh",
        "outputId": "7ed99b3a-be06-4faa-f15d-fa10955a313f"
      },
      "execution_count": 44,
      "outputs": [
        {
          "output_type": "stream",
          "name": "stdout",
          "text": [
            "enter no. of rows 4\n",
            "      *       \n",
            "\n",
            "    * * *     \n",
            "\n",
            "  * * * * *   \n",
            "\n",
            "* * * * * * * \n",
            "\n",
            "* * * * * * * \n",
            "\n",
            "  * * * * *   \n",
            "\n",
            "    * * *     \n",
            "\n",
            "      *       \n",
            "\n"
          ]
        }
      ]
    },
    {
      "cell_type": "code",
      "source": [
        "n = int(input(\"enter no. of rows \"))\n",
        "for i in range(0,2*n):\n",
        "  stars = i\n",
        "  if i > n:\n",
        "    stars = 2*n-i\n",
        "  for j in range(0, stars):\n",
        "    print(\"*\",end = \" \")\n",
        "  print(\"\\n\")"
      ],
      "metadata": {
        "colab": {
          "base_uri": "https://localhost:8080/"
        },
        "id": "pU6bzXQxgz63",
        "outputId": "bd9b5c03-6f59-4fd3-843c-412e85a08352"
      },
      "execution_count": 64,
      "outputs": [
        {
          "output_type": "stream",
          "name": "stdout",
          "text": [
            "enter no. of rows 4\n",
            "\n",
            "\n",
            "* \n",
            "\n",
            "* * \n",
            "\n",
            "* * * \n",
            "\n",
            "* * * * \n",
            "\n",
            "* * * \n",
            "\n",
            "* * \n",
            "\n",
            "* \n",
            "\n"
          ]
        }
      ]
    },
    {
      "cell_type": "code",
      "source": [
        "n = int(input(\"enter no. of rows \"))\n",
        "start = 1\n",
        "for i in range(0,n):\n",
        "  if i % 2 == 0:\n",
        "    start = 1\n",
        "  else:\n",
        "    start = 0\n",
        "  for j in range(0,i+1):\n",
        "    print(start, end =\" \")\n",
        "    start = 1-start\n",
        "  print(\"\\n\")"
      ],
      "metadata": {
        "colab": {
          "base_uri": "https://localhost:8080/"
        },
        "id": "pn3SRdCphqZK",
        "outputId": "c00e1881-ee6a-47b2-cacd-b207490bde9c"
      },
      "execution_count": 7,
      "outputs": [
        {
          "output_type": "stream",
          "name": "stdout",
          "text": [
            "enter no. of rows 5\n",
            "1 \n",
            "\n",
            "0 1 \n",
            "\n",
            "1 0 1 \n",
            "\n",
            "0 1 0 1 \n",
            "\n",
            "1 0 1 0 1 \n",
            "\n"
          ]
        }
      ]
    },
    {
      "cell_type": "code",
      "source": [
        "n = int(input(\"enter no. of rows \"))\n",
        "spaces = 2*(n-1)\n",
        "for i in range(1,n+1):\n",
        "  for j in range(1,i+1):\n",
        "    print(j, end =\" \")\n",
        "  for j in range(1,spaces+1):\n",
        "    print(\" \",end = \" \")\n",
        "  for j in range(i,0,-1):\n",
        "    print(j, end =\" \")\n",
        "  print('\\n')\n",
        "  spaces = spaces -2"
      ],
      "metadata": {
        "colab": {
          "base_uri": "https://localhost:8080/"
        },
        "id": "6rK5FC9z6ECy",
        "outputId": "3c464a02-86e7-4feb-bfcf-76af509b87fc"
      },
      "execution_count": 27,
      "outputs": [
        {
          "output_type": "stream",
          "name": "stdout",
          "text": [
            "enter no. of rows 3\n",
            "1         1 \n",
            "\n",
            "1 2     2 1 \n",
            "\n",
            "1 2 3 3 2 1 \n",
            "\n"
          ]
        }
      ]
    },
    {
      "cell_type": "code",
      "source": [
        "n = int(input(\"enter no. of rows \"))\n",
        "num = 1\n",
        "for i in range(1,n+1):\n",
        "  for j in range(1,i+1):\n",
        "    print(num, end = \" \")\n",
        "    num = num + 1\n",
        "  print(\"\\n\")\n",
        "\n",
        "\n",
        "\n"
      ],
      "metadata": {
        "colab": {
          "base_uri": "https://localhost:8080/"
        },
        "id": "ctbifBDx8GAw",
        "outputId": "63cd007e-5ffe-49e1-b0c7-30fff209ac5c"
      },
      "execution_count": 28,
      "outputs": [
        {
          "output_type": "stream",
          "name": "stdout",
          "text": [
            "enter no. of rows 5\n",
            "1 \n",
            "\n",
            "2 3 \n",
            "\n",
            "4 5 6 \n",
            "\n",
            "7 8 9 10 \n",
            "\n",
            "11 12 13 14 15 \n",
            "\n"
          ]
        }
      ]
    },
    {
      "cell_type": "code",
      "source": [
        "n = int(input(\"enter no. of rows \"))\n",
        "for i in range(0,n):\n",
        "  for ch in range(ord('A'),ord('A')+i+1):\n",
        "    print(chr(ch), end = \" \")\n",
        "  print(\"\\n\")\n",
        ""
      ],
      "metadata": {
        "colab": {
          "base_uri": "https://localhost:8080/"
        },
        "id": "1A6HSNHI-ZEz",
        "outputId": "0779cf4d-6620-4ff2-bebc-2ddaeb65801d"
      },
      "execution_count": 29,
      "outputs": [
        {
          "output_type": "stream",
          "name": "stdout",
          "text": [
            "enter no. of rows 5\n",
            "A \n",
            "\n",
            "A B \n",
            "\n",
            "A B C \n",
            "\n",
            "A B C D \n",
            "\n",
            "A B C D E \n",
            "\n"
          ]
        }
      ]
    },
    {
      "cell_type": "code",
      "source": [
        "n = int(input(\"enter no. of rows \"))\n",
        "for i in range(0,n):\n",
        "  for ch in range(ord('A'),ord('A')+(n-i)):\n",
        "    print(chr(ch), end = \" \")\n",
        "  print(\"\\n\")"
      ],
      "metadata": {
        "colab": {
          "base_uri": "https://localhost:8080/"
        },
        "id": "6tC0nfZT_CG3",
        "outputId": "2c32875d-f8c3-413e-bc1d-2e4e06011c50"
      },
      "execution_count": 32,
      "outputs": [
        {
          "output_type": "stream",
          "name": "stdout",
          "text": [
            "enter no. of rows 5\n",
            "A B C D E \n",
            "\n",
            "A B C D \n",
            "\n",
            "A B C \n",
            "\n",
            "A B \n",
            "\n",
            "A \n",
            "\n"
          ]
        }
      ]
    },
    {
      "cell_type": "code",
      "source": [
        "n = int(input(\"enter no. of rows \"))\n",
        "for i in range(0,n):\n",
        "  for j in range(0,i+1):\n",
        "    print(chr(ord('A') + i), end = \" \")\n",
        "  print(\"\\n\")"
      ],
      "metadata": {
        "colab": {
          "base_uri": "https://localhost:8080/"
        },
        "id": "gm4IDWxp_eun",
        "outputId": "9451de93-0860-467d-b5d4-fc0c9ed6f56c"
      },
      "execution_count": 36,
      "outputs": [
        {
          "output_type": "stream",
          "name": "stdout",
          "text": [
            "enter no. of rows 5\n",
            "A \n",
            "\n",
            "B B \n",
            "\n",
            "C C C \n",
            "\n",
            "D D D D \n",
            "\n",
            "E E E E E \n",
            "\n"
          ]
        }
      ]
    },
    {
      "cell_type": "code",
      "source": [
        "N = int(input(\"enter no. of rows \"))\n",
        "for i in range(N):\n",
        "  for j in range(N-i-1):\n",
        "      print(\" \", end=\"\")\n",
        "\n",
        "  ch = 'A'\n",
        "  breakpoint = (2*i+1)//2\n",
        "  for j in range(1, 2*i+2):\n",
        "      print(ch, end=\"\")\n",
        "      if j <= breakpoint:\n",
        "          ch = chr(ord(ch) + 1)\n",
        "      else:\n",
        "          ch = chr(ord(ch) - 1)\n",
        "\n",
        "  for j in range(N-i-1):\n",
        "      print(\" \", end=\"\")\n",
        "\n",
        "  print(\"\\n\")"
      ],
      "metadata": {
        "colab": {
          "base_uri": "https://localhost:8080/"
        },
        "id": "eQM6cwgZADAp",
        "outputId": "bbd9eccf-70a9-4338-d15b-f11b1a099905"
      },
      "execution_count": 37,
      "outputs": [
        {
          "output_type": "stream",
          "name": "stdout",
          "text": [
            "enter no. of rows 5\n",
            "    A    \n",
            "\n",
            "   ABA   \n",
            "\n",
            "  ABCBA  \n",
            "\n",
            " ABCDCBA \n",
            "\n",
            "ABCDEDCBA\n",
            "\n"
          ]
        }
      ]
    },
    {
      "cell_type": "code",
      "source": [
        "n = int(input(\"enter no. of rows \"))\n",
        "for i in range(0,n):\n",
        "  for ch in range(ord('A')+N-1-i, ord('A')+N):\n",
        "    ch = chr(ch)\n",
        "    print(ch, end = \" \")\n",
        "  print(\"\\n\")\n",
        "\n"
      ],
      "metadata": {
        "colab": {
          "base_uri": "https://localhost:8080/"
        },
        "id": "JNZPvVd-BI1r",
        "outputId": "2f61220a-5922-40f7-b337-9b47ea52f408"
      },
      "execution_count": 39,
      "outputs": [
        {
          "output_type": "stream",
          "name": "stdout",
          "text": [
            "enter no. of rows 5\n",
            "E \n",
            "\n",
            "D E \n",
            "\n",
            "C D E \n",
            "\n",
            "B C D E \n",
            "\n",
            "A B C D E \n",
            "\n"
          ]
        }
      ]
    },
    {
      "cell_type": "code",
      "source": [
        "rows = 5\n",
        "i = 0\n",
        "while i <= rows - 1:\n",
        "    j = 0\n",
        "    while j < i:\n",
        "        # display space\n",
        "        print('', end=' ')\n",
        "        j += 1\n",
        "    k = i\n",
        "    while k <= rows - 1:\n",
        "        print('*', end=' ')\n",
        "        k += 1\n",
        "    print()\n",
        "    i += 1\n",
        "\n",
        "i = rows - 1\n",
        "while i >= 0:\n",
        "    j = 0\n",
        "    while j < i:\n",
        "        print('', end=' ')\n",
        "        j += 1\n",
        "    k = i\n",
        "    while k <= rows - 1:\n",
        "        print('*', end=' ')\n",
        "        k += 1\n",
        "    print('')\n",
        "    i -= 1"
      ],
      "metadata": {
        "colab": {
          "base_uri": "https://localhost:8080/"
        },
        "id": "y4UW4NfdBuIz",
        "outputId": "ee210e68-ba05-4c83-fefe-475cc3331c86"
      },
      "execution_count": 46,
      "outputs": [
        {
          "output_type": "stream",
          "name": "stdout",
          "text": [
            "* * * * * \n",
            " * * * * \n",
            "  * * * \n",
            "   * * \n",
            "    * \n",
            "    * \n",
            "   * * \n",
            "  * * * \n",
            " * * * * \n",
            "* * * * * \n"
          ]
        }
      ]
    },
    {
      "cell_type": "code",
      "source": [
        "rows = 14\n",
        "print(\"*\" * rows, end=\"\\n\")\n",
        "i = (rows // 2) - 1\n",
        "j = 2\n",
        "while i != 0:\n",
        "    while j <= (rows - 2):\n",
        "        print(\"*\" * i, end=\"\")\n",
        "        print(\"_\" * j, end=\"\")\n",
        "        print(\"*\" * i, end=\"\\n\")\n",
        "        i = i - 1\n",
        "        j = j + 2"
      ],
      "metadata": {
        "colab": {
          "base_uri": "https://localhost:8080/"
        },
        "id": "VgxItDrnKWrp",
        "outputId": "8c2d0068-7333-494a-c1f6-50dc2d3f6cc2"
      },
      "execution_count": 47,
      "outputs": [
        {
          "output_type": "stream",
          "name": "stdout",
          "text": [
            "**************\n",
            "******__******\n",
            "*****____*****\n",
            "****______****\n",
            "***________***\n",
            "**__________**\n",
            "*____________*\n"
          ]
        }
      ]
    },
    {
      "cell_type": "code",
      "source": [],
      "metadata": {
        "id": "CwcT83jJOXgK"
      },
      "execution_count": null,
      "outputs": []
    },
    {
      "cell_type": "code",
      "source": [
        "# Java to Python by kalkicode.com\n",
        "import math\n",
        "import sys\n",
        "class Main(object) :\n",
        "    @staticmethod\n",
        "    def pattern22( n) :\n",
        "        i = 0\n",
        "        while (i < 2 * n - 1) :\n",
        "            j = 0\n",
        "            while (j < 2 * n - 1) :\n",
        "                top = i\n",
        "                bottom = j\n",
        "                right = (2 * n - 2) - j\n",
        "                left = (2 * n - 2) - i\n",
        "                print(str(n - min(min(top,bottom),min(left,right))) + \" \", end =\"\")\n",
        "                j += 1\n",
        "            print()\n",
        "            i += 1\n",
        "    @staticmethod\n",
        "    def main( args) :\n",
        "        N = 5\n",
        "        Main.pattern22(N)\n",
        "\n",
        "\n",
        "if __name__==\"__main__\":\n",
        "    Main.main(sys.argv)"
      ],
      "metadata": {
        "colab": {
          "base_uri": "https://localhost:8080/"
        },
        "id": "HKeVwKUxMNuT",
        "outputId": "70a87a90-51f3-45a1-d0a5-99d0d6077f98"
      },
      "execution_count": 56,
      "outputs": [
        {
          "output_type": "stream",
          "name": "stdout",
          "text": [
            "5 5 5 5 5 5 5 5 5 \n",
            "5 4 4 4 4 4 4 4 5 \n",
            "5 4 3 3 3 3 3 4 5 \n",
            "5 4 3 2 2 2 3 4 5 \n",
            "5 4 3 2 1 2 3 4 5 \n",
            "5 4 3 2 2 2 3 4 5 \n",
            "5 4 3 3 3 3 3 4 5 \n",
            "5 4 4 4 4 4 4 4 5 \n",
            "5 5 5 5 5 5 5 5 5 \n"
          ]
        }
      ]
    },
    {
      "cell_type": "code",
      "source": [],
      "metadata": {
        "id": "awBeyDNaMhSf"
      },
      "execution_count": null,
      "outputs": []
    }
  ]
}