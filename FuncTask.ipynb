{
 "cells": [
  {
   "cell_type": "code",
   "execution_count": null,
   "id": "e758f894",
   "metadata": {},
   "outputs": [],
   "source": [
    "  q1 : Try to print a prime number in between 1 to 1000\n",
    "    q2 : Try to write a function which  is equivalent  to print function in python\n",
    "    q3 : Try to write a function which is a replica of list append , extend and pop function \n",
    "    q4 : Try to write a lambda function which can return a concatination of all the string that we will pass\n",
    "    q5 : Try to write a lambda function which can return list of square of all the data between 1-100 \n",
    "    q6 : Try to write a 10 Different different example of lambda function with a choice of your taks \n",
    "    q7 : Try to wwrite a funtion whihc can perform a read operation from .txt file "
   ]
  },
  {
   "cell_type": "code",
   "execution_count": 5,
   "id": "b4060e83",
   "metadata": {},
   "outputs": [
    {
     "name": "stdout",
     "output_type": "stream",
     "text": [
      "The prime numbers in this range are:  [2, 3, 5, 7, 11, 13, 17, 19, 23, 29, 31, 37, 41, 43, 47, 53, 59, 61, 67, 71, 73, 79, 83, 89, 97, 101, 103, 107, 109, 113, 127, 131, 137, 139, 149, 151, 157, 163, 167, 173, 179, 181, 191, 193, 197, 199, 211, 223, 227, 229, 233, 239, 241, 251, 257, 263, 269, 271, 277, 281, 283, 293, 307, 311, 313, 317, 331, 337, 347, 349, 353, 359, 367, 373, 379, 383, 389, 397, 401, 409, 419, 421, 431, 433, 439, 443, 449, 457, 461, 463, 467, 479, 487, 491, 499, 503, 509, 521, 523, 541, 547, 557, 563, 569, 571, 577, 587, 593, 599, 601, 607, 613, 617, 619, 631, 641, 643, 647, 653, 659, 661, 673, 677, 683, 691, 701, 709, 719, 727, 733, 739, 743, 751, 757, 761, 769, 773, 787, 797, 809, 811, 821, 823, 827, 829, 839, 853, 857, 859, 863, 877, 881, 883, 887, 907, 911, 919, 929, 937, 941, 947, 953, 967, 971, 977, 983, 991, 997]\n"
     ]
    }
   ],
   "source": [
    "# Q1\n",
    "\n",
    "def prime(x, y):\n",
    "\tprime_list = []\n",
    "\tfor i in range(x, y):\n",
    "\t\tif i == 0 or i == 1:\n",
    "\t\t\tcontinue\n",
    "\t\telse:\n",
    "\t\t\tfor j in range(2, int(i/2)+1):\n",
    "\t\t\t\tif i % j == 0:\n",
    "\t\t\t\t\tbreak\n",
    "\t\t\telse:\n",
    "\t\t\t\tprime_list.append(i)\n",
    "\treturn prime_list\n",
    "\n",
    "# Driver program\n",
    "starting_range = 1\n",
    "ending_range = 1000\n",
    "lst = prime(starting_range, ending_range)\n",
    "if len(lst) == 0:\n",
    "\tprint(\"There are no prime numbers in this range\")\n",
    "else:\n",
    "\tprint(\"The prime numbers in this range are: \", lst)\n"
   ]
  },
  {
   "cell_type": "code",
   "execution_count": 7,
   "id": "238499bc",
   "metadata": {},
   "outputs": [
    {
     "name": "stdout",
     "output_type": "stream",
     "text": [
      "[1, 4, 9, 16, 25, 36, 49, 64, 81, 100]\n",
      "[1, 8, 27, 64, 125, 216, 343, 512, 729, 1000]\n"
     ]
    }
   ],
   "source": [
    "\n",
    "nums = [1, 2, 3, 4, 5, 6, 7, 8, 9, 10]\n",
    "square_nums = list(map(lambda x: x ** 2, nums))\n",
    "print(square_nums)\n",
    "cube_nums = list(map(lambda x: x ** 3, nums))\n",
    "print(cube_nums) \n"
   ]
  },
  {
   "cell_type": "code",
   "execution_count": null,
   "id": "8a9696c3",
   "metadata": {},
   "outputs": [],
   "source": []
  }
 ],
 "metadata": {
  "kernelspec": {
   "display_name": "Python 3",
   "language": "python",
   "name": "python3"
  },
  "language_info": {
   "codemirror_mode": {
    "name": "ipython",
    "version": 3
   },
   "file_extension": ".py",
   "mimetype": "text/x-python",
   "name": "python",
   "nbconvert_exporter": "python",
   "pygments_lexer": "ipython3",
   "version": "3.8.8"
  }
 },
 "nbformat": 4,
 "nbformat_minor": 5
}
