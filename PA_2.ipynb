{
  "nbformat": 4,
  "nbformat_minor": 0,
  "metadata": {
    "colab": {
      "provenance": []
    },
    "kernelspec": {
      "name": "python3",
      "display_name": "Python 3"
    },
    "language_info": {
      "name": "python"
    }
  },
  "cells": [
    {
      "cell_type": "code",
      "execution_count": 3,
      "metadata": {
        "colab": {
          "base_uri": "https://localhost:8080/"
        },
        "id": "FoIlL6NWAmL7",
        "outputId": "a7ce2c6f-6141-4eee-dcf3-698e5a344297"
      },
      "outputs": [
        {
          "output_type": "stream",
          "name": "stdout",
          "text": [
            "Enter value in kilometers: 10\n",
            "10.00 kilometers is equal to 6.21 miles\n"
          ]
        }
      ],
      "source": [
        "#1. Write a Python program to convert kilometers to miles?\n",
        "km = float(input(\"Enter value in kilometers: \"))\n",
        "\n",
        "#Conversion factor\n",
        "cf = 0.621371\n",
        "\n",
        "#Calculate miles\n",
        "miles = km * cf\n",
        "\n",
        "#Print the output\n",
        "print('%0.2f kilometers is equal to %0.2f miles' %(km,miles))\n"
      ]
    },
    {
      "cell_type": "code",
      "source": [
        "#2. Write a Python program to convert Celsius to Fahrenheit?\n",
        "celsius = float(input(\"Enter temperature in celsius: \"))\n",
        "fahrenheit = (celsius * 1.8) + 32\n",
        "print(str(celsius )+ \" degree Celsius is equal to \" + str(fahrenheit )+ \" degree Fahrenheit.\")\n"
      ],
      "metadata": {
        "colab": {
          "base_uri": "https://localhost:8080/"
        },
        "id": "K0_98iasA06o",
        "outputId": "6e412a0a-5f37-4591-f536-a45b953abeda"
      },
      "execution_count": 4,
      "outputs": [
        {
          "output_type": "stream",
          "name": "stdout",
          "text": [
            "Object `Fahrenheit` not found.\n",
            "Enter temperature in celsius: 30\n",
            "30.0 degree Celsius is equal to 86.0 degree Fahrenheit.\n"
          ]
        }
      ]
    },
    {
      "cell_type": "code",
      "source": [
        "#3. Write a Python program to display calendar?\n",
        "import calendar  \n",
        "# Enter the month and year  \n",
        "yy = int(input(\"Enter year: \"))  \n",
        "mm = int(input(\"Enter month: \"))  \n",
        "  \n",
        "# display the calendar  \n",
        "print(calendar.month(yy,mm))  "
      ],
      "metadata": {
        "colab": {
          "base_uri": "https://localhost:8080/"
        },
        "id": "SZ890iw3BXoS",
        "outputId": "dcb89b13-17b6-4e1b-97ec-0aa52d4ed5ba"
      },
      "execution_count": 5,
      "outputs": [
        {
          "output_type": "stream",
          "name": "stdout",
          "text": [
            "Enter year: 2023\n",
            "Enter month: 9\n",
            "   September 2023\n",
            "Mo Tu We Th Fr Sa Su\n",
            "             1  2  3\n",
            " 4  5  6  7  8  9 10\n",
            "11 12 13 14 15 16 17\n",
            "18 19 20 21 22 23 24\n",
            "25 26 27 28 29 30\n",
            "\n"
          ]
        }
      ]
    },
    {
      "cell_type": "code",
      "source": [
        "#4. Write a Python program to solve quadratic equation?\n",
        "\n",
        "# import complex math module  \n",
        "import cmath  \n",
        "a = float(input('Enter a: '))  \n",
        "b = float(input('Enter b: '))  \n",
        "c = float(input('Enter c: '))  \n",
        "  \n",
        "# calculate the discriminant  \n",
        "d = (b**2) - (4*a*c)  \n",
        "  \n",
        "# find two solutions  \n",
        "sol1 = (-b-cmath.sqrt(d))/(2*a)  \n",
        "sol2 = (-b+cmath.sqrt(d))/(2*a)  \n",
        "print('The solution are {0} and {1}'.format(sol1,sol2))  "
      ],
      "metadata": {
        "colab": {
          "base_uri": "https://localhost:8080/"
        },
        "id": "6uZedh96Bk3q",
        "outputId": "51fcc0e8-bc2b-4caa-f697-e47ec8ba77f5"
      },
      "execution_count": 8,
      "outputs": [
        {
          "output_type": "stream",
          "name": "stdout",
          "text": [
            "Enter a: 2\n",
            "Enter b: 13\n",
            "Enter c: 3\n",
            "The solution are (-6.260398644698074+0j) and (-0.23960135530192606+0j)\n"
          ]
        }
      ]
    },
    {
      "cell_type": "code",
      "source": [
        "#5. Write a Python program to swap two variables without temp variable?\n",
        " \n",
        "x = input(\"enter first variable: \")\n",
        "y = input(\"enter second variable: \")\n",
        " \n",
        "print (\"Before swapping: \")\n",
        "print(\"Value of x : \", x, \" and y : \", y)\n",
        " \n",
        "# code to swap 'x' and 'y'\n",
        "x, y = y, x\n",
        " \n",
        "print (\"After swapping: \")\n",
        "print(\"Value of x : \", x, \" and y : \", y)"
      ],
      "metadata": {
        "colab": {
          "base_uri": "https://localhost:8080/"
        },
        "id": "42fWJC5yB7mZ",
        "outputId": "6cbd5fc4-41c9-44c7-f545-72b61db61b0a"
      },
      "execution_count": 11,
      "outputs": [
        {
          "output_type": "stream",
          "name": "stdout",
          "text": [
            "enter first variable: 2\n",
            "enter second variable: 3\n",
            "Before swapping: \n",
            "Value of x :  2  and y :  3\n",
            "After swapping: \n",
            "Value of x :  3  and y :  2\n"
          ]
        }
      ]
    },
    {
      "cell_type": "code",
      "source": [],
      "metadata": {
        "id": "NpThhY8cCaqW"
      },
      "execution_count": null,
      "outputs": []
    }
  ]
}