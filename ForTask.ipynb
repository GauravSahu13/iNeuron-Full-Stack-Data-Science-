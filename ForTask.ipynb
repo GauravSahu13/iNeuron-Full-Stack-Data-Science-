{
 "cells": [
  {
   "cell_type": "code",
   "execution_count": null,
   "id": "7e9f5a75",
   "metadata": {},
   "outputs": [],
   "source": [
    "q1 :\n",
    "ineruon \n",
    "ineruon ineruon \n",
    "ineruon ineruon ineruon\n",
    "ineruon ineruon ineruon ineruon\n",
    "\n",
    "q2 - \n",
    "\n",
    "          ineruon\n",
    "    ineruon      ineruon\n",
    "ineruon\t\tineruon \tineruon\n",
    "\tineruon\t\t ineruon\n",
    "\t\t  ineruon\n",
    "\n",
    "l = [[1,2,3,4] , (2,3,4,5,6) , (3,4,5,6,7) , set([23,4,5,45,4,4,5,45,45,4,5]) , {'k1' :\"sudh\" , \"k2\" : \"ineuron\",\"k3\":\n",
    "            \"kumar\" , 3:6 , 7:8} , [\"ineuron\" , \"data science \"]]\n",
    "\n",
    "q3 : Try to extract all the list entity \n",
    "q4 : Try to extract all the dict enteties\n",
    "q5 : Try to extract all the tuples entities\n",
    "q6 : Try to extract all the numerical data it may b a part of dict key and values \n",
    "q7 : Try to give summation of all the numeric data \n",
    "q8 : Try to filter out all the odd values out all numeric data which is a part of a list \n",
    "q9 : Try to extract \"ineruon\" out of this data\n",
    "q10 :Try to find out a number of occurances of all the data \n",
    "q11 : Try to find out number of keys in dict element\n",
    "q12 : Try to filter out all the string data \n",
    "q13 : Try to Find  out alphanum in data\n",
    "q14 : Try to find out multiplication of all numeric value in  the individual collection inside dataset \n",
    "q15 : Try to unwrape all the collection inside collection and create a flat list "
   ]
  },
  {
   "cell_type": "code",
   "execution_count": 2,
   "id": "7c3bc9cb",
   "metadata": {},
   "outputs": [
    {
     "name": "stdout",
     "output_type": "stream",
     "text": [
      "ineruon  \n",
      "\n",
      "ineruon  ineruon  \n",
      "\n",
      "ineruon  ineruon  ineruon  \n",
      "\n",
      "ineruon  ineruon  ineruon  ineruon  \n",
      "\n"
     ]
    }
   ],
   "source": [
    "n = 4 \n",
    "for i in range(4) :\n",
    "    for j in range(0 ,i+1) : \n",
    "        print(\"ineruon\" , end = \"  \")\n",
    "    print(\"\\n\")"
   ]
  },
  {
   "cell_type": "code",
   "execution_count": 9,
   "id": "641f07fc",
   "metadata": {},
   "outputs": [
    {
     "name": "stdout",
     "output_type": "stream",
     "text": [
      "      * \n",
      "    * * * \n",
      "  * * * * * \n",
      "    * * * \n",
      "      * \n"
     ]
    }
   ],
   "source": [
    "n=3\n",
    "for i in range(n-1):\n",
    "    for j in range(i,n):\n",
    "        print(\" \",end=\" \")\n",
    "    for j in range(i):\n",
    "        print(\"*\",end=\" \")\n",
    "    for j in range(i+1):\n",
    "        print(\"*\",end=\" \")\n",
    "    print()\n",
    "for i in range(n):    \n",
    "    for j in range(i+1):\n",
    "        print(\" \",end=\" \")\n",
    "    for j in range(i,n-1):\n",
    "        print(\"*\",end=\" \")\n",
    "    for j in range(i,n):\n",
    "        print(\"*\",end=\" \")\n",
    "    print()"
   ]
  },
  {
   "cell_type": "code",
   "execution_count": 42,
   "id": "45c6425c",
   "metadata": {},
   "outputs": [
    {
     "name": "stdout",
     "output_type": "stream",
     "text": [
      "      ineuron \n",
      "   ineuron ineuron \n",
      "ineuron ineuron ineuron \n",
      "   ineuron ineuron \n",
      "      ineuron \n"
     ]
    }
   ],
   "source": [
    "n=3\n",
    "k=n\n",
    "for i in range(n):\n",
    "    k=k-1\n",
    "    print('   '*k, end='')\n",
    "    for j in range(i+1):\n",
    "        print('ineuron ', end= '')\n",
    "    print()\n",
    "    \n",
    "for i in range(n-1, 0, -1):\n",
    "    k = n - i\n",
    "    print('   ' * k, end='')\n",
    "    for j in range(i):\n",
    "        print('ineuron ', end='')\n",
    "    print()\n",
    "    \n"
   ]
  },
  {
   "cell_type": "code",
   "execution_count": 44,
   "id": "a806fa4d",
   "metadata": {},
   "outputs": [],
   "source": [
    "l = [[1,2,3,4] , (2,3,4,5,6) , (3,4,5,6,7) , set([23,4,5,45,4,4,5,45,45,4,5]) , {'k1' :\"sudh\" , \"k2\" : \"ineuron\",\"k3\":\n",
    "            \"kumar\" , 3:6 , 7:8} , [\"ineuron\" , \"data science \"]]"
   ]
  },
  {
   "cell_type": "code",
   "execution_count": 57,
   "id": "2f5ac38c",
   "metadata": {},
   "outputs": [
    {
     "name": "stdout",
     "output_type": "stream",
     "text": [
      "list  [1, 2, 3, 4]\n",
      "tuple  (2, 3, 4, 5, 6)\n",
      "tuple  (3, 4, 5, 6, 7)\n",
      "set  {45, 4, 5, 23}\n",
      "dict  {'k1': 'sudh', 'k2': 'ineuron', 'k3': 'kumar', 3: 6, 7: 8}\n",
      "list  ['ineuron', 'data science ']\n"
     ]
    }
   ],
   "source": [
    "for i in l:\n",
    "    if type(i) == list :\n",
    "        print(\"list \", i)\n",
    "    elif type(i) == tuple:\n",
    "        print(\"tuple \", i)\n",
    "    elif type(i) == dict:\n",
    "        print(\"dict \", i)    \n",
    "    else:\n",
    "        print(\"set \",i)\n",
    "    "
   ]
  },
  {
   "cell_type": "code",
   "execution_count": 62,
   "id": "1b290b11",
   "metadata": {},
   "outputs": [
    {
     "name": "stdout",
     "output_type": "stream",
     "text": [
      "[1, 2, 3, 4, 2, 3, 4, 5, 6, 3, 4, 5, 6, 7, 45, 4, 5, 23, 3, 6, 7, 8]\n"
     ]
    }
   ],
   "source": [
    "l1 = []\n",
    "for i in l:\n",
    "    if type(i) == list or type(i) == tuple or type(i) == set:\n",
    "        for j in i:\n",
    "            if type(j) == int:\n",
    "                l1.append(j)\n",
    "    if type(i) == dict:\n",
    "        for k,v in i.items():\n",
    "            if type(k) == int:\n",
    "                l1.append(k)\n",
    "            if type(v) == int:\n",
    "                l1.append(v)\n",
    "        \n",
    "print(l1)  "
   ]
  },
  {
   "cell_type": "code",
   "execution_count": 66,
   "id": "c85e78a4",
   "metadata": {},
   "outputs": [
    {
     "name": "stdout",
     "output_type": "stream",
     "text": [
      "sum is  156\n"
     ]
    }
   ],
   "source": [
    "sum = 0\n",
    "for i in l1:\n",
    "    sum = sum + i\n",
    "print(\"sum is \",sum)"
   ]
  },
  {
   "cell_type": "code",
   "execution_count": 84,
   "id": "469c24da",
   "metadata": {},
   "outputs": [
    {
     "name": "stdout",
     "output_type": "stream",
     "text": [
      "[1, 3, 3, 5, 3, 5, 7, 45, 5, 23, 3, 7]\n"
     ]
    }
   ],
   "source": [
    "odd = []\n",
    "for i in l1:\n",
    "    if i % 2 != 0:\n",
    "        odd.append(i)\n",
    "print(odd) "
   ]
  },
  {
   "cell_type": "code",
   "execution_count": 94,
   "id": "2a0bdb4f",
   "metadata": {},
   "outputs": [
    {
     "name": "stdout",
     "output_type": "stream",
     "text": [
      "['ineuron', 'ineuron']\n"
     ]
    }
   ],
   "source": [
    "l = [[1,2,3,4] , (2,3,4,5,6) , (3,4,5,6,7) , set([23,4,5,45,4,4,5,45,45,4,5]) , {'k1' :\"sudh\" , \"k2\" : \"ineuron\",\"k3\":\n",
    "            \"kumar\" , 3:6 , 7:8} , [\"ineuron\" , \"data science \"]]\n",
    "\n",
    "Ineuron = []\n",
    "for i in l:\n",
    "    if type(i) == list or type(i) == tuple or type(i) == set:\n",
    "        for j in i:\n",
    "            if j == \"ineuron\":\n",
    "                Ineuron.append(j)\n",
    "    if type(i) == dict:\n",
    "        for k,v in i.items():\n",
    "            if k == \"ineuron\":\n",
    "                Ineuron.append(k)\n",
    "            if v == \"ineuron\":\n",
    "                Ineuron.append(v)\n",
    "          \n",
    "print(Ineuron)"
   ]
  },
  {
   "cell_type": "code",
   "execution_count": 98,
   "id": "d69b00d9",
   "metadata": {},
   "outputs": [
    {
     "name": "stdout",
     "output_type": "stream",
     "text": [
      "['k1', 'sudh', 'k2', 'ineuron', 'k3', 'kumar', 'ineuron', 'data science ']\n"
     ]
    }
   ],
   "source": [
    "Stringg = []\n",
    "for i in l:\n",
    "    if type(i) == list or type(i) == tuple or type(i) == set:\n",
    "        for j in i:\n",
    "            if type(j) == str:\n",
    "                Stringg.append(j)\n",
    "    if type(i) == dict:\n",
    "        for k,v in i.items():\n",
    "            if type(k) == str:\n",
    "                Stringg.append(k)\n",
    "            if type(v) == str:\n",
    "                Stringg.append(v)\n",
    "print(Stringg)               "
   ]
  },
  {
   "cell_type": "code",
   "execution_count": 102,
   "id": "d9a62732",
   "metadata": {},
   "outputs": [
    {
     "name": "stdout",
     "output_type": "stream",
     "text": [
      "1 : 1\n",
      "2 : 2\n",
      "3 : 4\n",
      "4 : 4\n",
      "5 : 3\n",
      "6 : 3\n",
      "7 : 2\n",
      "k1 : 1\n",
      "sudh : 1\n",
      "k2 : 1\n",
      "8 : 1\n",
      "data science  : 1\n",
      "45 : 1\n",
      "kumar : 1\n",
      "23 : 1\n",
      "k3 : 1\n",
      "ineuron : 2\n"
     ]
    }
   ],
   "source": [
    "Occurance = []\n",
    "for i in l:\n",
    "    if type(i) == list or type(i) == tuple or type(i) == set:\n",
    "        for j in i:\n",
    "            Occurance.append(j)\n",
    "    if type(i) == dict:\n",
    "        for k,v in i.items():\n",
    "            Occurance.append(k)\n",
    "            Occurance.append(v)\n",
    "for i in set(Occurance):\n",
    "    print(i,\":\",Occurance.count(i))"
   ]
  },
  {
   "cell_type": "code",
   "execution_count": 110,
   "id": "2ce1717c",
   "metadata": {},
   "outputs": [
    {
     "name": "stdout",
     "output_type": "stream",
     "text": [
      "5 keys\n"
     ]
    }
   ],
   "source": [
    "for i in l :\n",
    "    if type(i) == dict :\n",
    "        print(len(i), \"keys\")"
   ]
  },
  {
   "cell_type": "code",
   "execution_count": 111,
   "id": "60912989",
   "metadata": {},
   "outputs": [
    {
     "name": "stdout",
     "output_type": "stream",
     "text": [
      "k1\n",
      "sudh\n",
      "k2\n",
      "ineuron\n",
      "k3\n",
      "kumar\n",
      "ineuron\n",
      "data science \n"
     ]
    }
   ],
   "source": [
    "for i in Occurance :\n",
    "    if type(i)==str:\n",
    "        if i.isalnum:\n",
    "            print(i)"
   ]
  },
  {
   "cell_type": "code",
   "execution_count": 115,
   "id": "8acd44bd",
   "metadata": {},
   "outputs": [
    {
     "name": "stdout",
     "output_type": "stream",
     "text": [
      "p1= 24 p2= 1814400 p3= 20700 p4= 1008\n"
     ]
    }
   ],
   "source": [
    "l1 = 1\n",
    "t1 = 1\n",
    "s1 = 1\n",
    "d1 = 1\n",
    "\n",
    "for i in l:\n",
    "    if type(i) == list:\n",
    "        for j in i:\n",
    "            if type(j) == int:\n",
    "                l1*=j\n",
    "    if type(i) == tuple:\n",
    "        for j in i:\n",
    "            if type(j) == int:\n",
    "                t1*=j\n",
    "    if type(i) == set:\n",
    "        for j in i:\n",
    "            if type(j) == int:\n",
    "                s1*=j\n",
    "    if type(i) == dict:\n",
    "        for k,v in i.items():\n",
    "            if type(k) == int:\n",
    "                d1*=k\n",
    "            if type(v) == int:\n",
    "                d1*=v\n",
    "        \n",
    "print(\"p1=\",l1,\"p2=\",t1,\"p3=\",s1,\"p4=\",d1)  "
   ]
  },
  {
   "cell_type": "code",
   "execution_count": 116,
   "id": "7157d911",
   "metadata": {},
   "outputs": [
    {
     "name": "stdout",
     "output_type": "stream",
     "text": [
      "[1, 2, 3, 4, 2, 3, 4, 5, 6, 3, 4, 5, 6, 7, 45, 4, 5, 23, 'k1', 'sudh', 'k2', 'ineuron', 'k3', 'kumar', 3, 6, 7, 8, 'ineuron', 'data science ']\n"
     ]
    }
   ],
   "source": [
    "unwrape = []\n",
    "for i in l:\n",
    "    if type(i) == list or type(i) == tuple or type(i) == set:\n",
    "        for j in i:\n",
    "            unwrape.append(j)\n",
    "    if type(i) == dict:\n",
    "        for k,v in i.items():\n",
    "            unwrape.append(k)\n",
    "            unwrape.append(v)\n",
    "print(unwrape) "
   ]
  },
  {
   "cell_type": "code",
   "execution_count": null,
   "id": "59f64365",
   "metadata": {},
   "outputs": [],
   "source": []
  }
 ],
 "metadata": {
  "kernelspec": {
   "display_name": "Python 3",
   "language": "python",
   "name": "python3"
  },
  "language_info": {
   "codemirror_mode": {
    "name": "ipython",
    "version": 3
   },
   "file_extension": ".py",
   "mimetype": "text/x-python",
   "name": "python",
   "nbconvert_exporter": "python",
   "pygments_lexer": "ipython3",
   "version": "3.8.8"
  }
 },
 "nbformat": 4,
 "nbformat_minor": 5
}
