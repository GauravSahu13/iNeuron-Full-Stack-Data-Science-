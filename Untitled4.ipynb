{
 "cells": [
  {
   "cell_type": "markdown",
   "id": "3be1068b",
   "metadata": {},
   "source": [
    "## Lambda Fuction\n"
   ]
  },
  {
   "cell_type": "markdown",
   "id": "c9a13456",
   "metadata": {},
   "source": [
    "Lambda functions are also known as anonymous functions because they don't have a name like regular functions defined using the 'def' keyword.\n",
    "Lambda functions are often used for short-term operations where a full function definition is not necessary inside another function."
   ]
  },
  {
   "cell_type": "markdown",
   "id": "457475fb",
   "metadata": {},
   "source": [
    "syntax:-\n",
    "\n",
    "lambda arguments: expression\n"
   ]
  },
  {
   "cell_type": "code",
   "execution_count": 2,
   "id": "8e2f643a",
   "metadata": {},
   "outputs": [
    {
     "data": {
      "text/plain": [
       "8"
      ]
     },
     "execution_count": 2,
     "metadata": {},
     "output_type": "execute_result"
    }
   ],
   "source": [
    "add = lambda x, y: x + y\n",
    "add(3, 5)"
   ]
  },
  {
   "cell_type": "code",
   "execution_count": 7,
   "id": "d7dd96eb",
   "metadata": {},
   "outputs": [
    {
     "data": {
      "text/plain": [
       "512"
      ]
     },
     "execution_count": 7,
     "metadata": {},
     "output_type": "execute_result"
    }
   ],
   "source": [
    "cubes = lambda x : x*x*x\n",
    "cubes(8)"
   ]
  },
  {
   "cell_type": "code",
   "execution_count": 10,
   "id": "2b904414",
   "metadata": {},
   "outputs": [
    {
     "data": {
      "text/plain": [
       "{'name': 'Gaurav', 'gender': 'M', 'age': 22}"
      ]
     },
     "execution_count": 10,
     "metadata": {},
     "output_type": "execute_result"
    }
   ],
   "source": [
    "info = lambda **details : details\n",
    "info(name ='Gaurav', gender = 'M', age = 22)"
   ]
  },
  {
   "cell_type": "code",
   "execution_count": 12,
   "id": "38149769",
   "metadata": {},
   "outputs": [
    {
     "data": {
      "text/plain": [
       "'GauravSahuEngineer'"
      ]
     },
     "execution_count": 12,
     "metadata": {},
     "output_type": "execute_result"
    }
   ],
   "source": [
    "func_conct = lambda *args: \"\".join([i for i in args])\n",
    "func_conct(\"Gaurav\",\"Sahu\",\"Engineer\")"
   ]
  },
  {
   "cell_type": "code",
   "execution_count": null,
   "id": "0537e940",
   "metadata": {},
   "outputs": [],
   "source": [
    "\n",
    "\n",
    "\n",
    "\n",
    "\n",
    "\n",
    "\n"
   ]
  },
  {
   "cell_type": "code",
   "execution_count": null,
   "id": "b6e88a08",
   "metadata": {},
   "outputs": [],
   "source": []
  },
  {
   "cell_type": "code",
   "execution_count": null,
   "id": "4f942633",
   "metadata": {},
   "outputs": [],
   "source": []
  },
  {
   "cell_type": "code",
   "execution_count": null,
   "id": "acf9d067",
   "metadata": {},
   "outputs": [],
   "source": []
  },
  {
   "cell_type": "markdown",
   "id": "6562a492",
   "metadata": {},
   "source": [
    "## Exception Handling"
   ]
  },
  {
   "cell_type": "markdown",
   "id": "713d531c",
   "metadata": {},
   "source": [
    "My further code execution will be stop\n",
    "this is not user friendly\n",
    "\n",
    "exception ---> during runtime error"
   ]
  },
  {
   "cell_type": "markdown",
   "id": "8a94fc84",
   "metadata": {},
   "source": [
    "try & except only handle runtime error only     \n",
    "\n",
    "else\n",
    "\n",
    "raise\n",
    "\n",
    "finally"
   ]
  },
  {
   "cell_type": "code",
   "execution_count": null,
   "id": "770fec68",
   "metadata": {},
   "outputs": [],
   "source": [
    "import sys\n",
    "while True:\n",
    "    try:\n",
    "        n1 = int(input(\"enter first integer: \"))\n",
    "        n2 = int(input(\"enter second integer: \"))\n",
    "        division = n1/n2\n",
    "        print(\"div:\",division)\n",
    "        break\n",
    "    \n",
    "'''except ZeroDivisionError as e:\n",
    "        print(e)\n",
    "    except ValueError as v:\n",
    "        print(v)''' \n",
    "\n",
    "    #except:\n",
    "        #print(sys.exc_info())   # used for debugging\n",
    "        \n",
    "    except:\n",
    "        a,b,c = sys.exc_info()         # uncoding\n",
    "        print(\"exception class\",a)\n",
    "        print(\"exception message\", b)\n",
    "        print(\"line number\",c.tb_lineno)"
   ]
  },
  {
   "cell_type": "code",
   "execution_count": 1,
   "id": "e25dfd67",
   "metadata": {},
   "outputs": [
    {
     "name": "stdout",
     "output_type": "stream",
     "text": [
      "enter first integer: 10\n",
      "enter second integer: 0\n",
      "Traceback (most recent call last):\n",
      "  File \"<ipython-input-1-f189ba6ea326>\", line 8, in <module>\n",
      "    division = n1/n2\n",
      "ZeroDivisionError: division by zero\n",
      "\n",
      "enter first integer: 10\n",
      "enter second integer: k\n",
      "Traceback (most recent call last):\n",
      "  File \"<ipython-input-1-f189ba6ea326>\", line 7, in <module>\n",
      "    n2 = int(input(\"enter second integer: \"))\n",
      "ValueError: invalid literal for int() with base 10: 'k'\n",
      "\n",
      "enter first integer: 10\n",
      "enter second integer: 3\n",
      "div: 3.3333333333333335\n"
     ]
    }
   ],
   "source": [
    "## traceback.format_exc()\n",
    "\n",
    "import traceback\n",
    "while True:\n",
    "    try:\n",
    "        n1 = int(input(\"enter first integer: \"))\n",
    "        n2 = int(input(\"enter second integer: \"))\n",
    "        division = n1/n2\n",
    "        print(\"div:\",division)\n",
    "        break\n",
    "\n",
    "    except:\n",
    "        print(traceback.format_exc())         # uncoding"
   ]
  },
  {
   "cell_type": "code",
   "execution_count": 2,
   "id": "3b5aea54",
   "metadata": {},
   "outputs": [
    {
     "name": "stdout",
     "output_type": "stream",
     "text": [
      "enter first integer: 10\n",
      "enter second integer: 0\n",
      "please enter non-zero denominator\n",
      "enter first integer: 10\n",
      "enter second integer: -10\n",
      "negative not allowed\n",
      "enter first integer: 10\n",
      "enter second integer: l\n",
      "please enter ineger only\n",
      "enter first integer: l\n",
      "please enter ineger only\n",
      "enter first integer: -1\n",
      "enter second integer: 3\n",
      "negative not allowed\n",
      "enter first integer: 1\n",
      "enter second integer: 2\n",
      "division is  0.5\n"
     ]
    }
   ],
   "source": [
    "# raise exception  ---> at custom line\n",
    "while True:\n",
    "    try:\n",
    "        n1 = int(input(\"enter first integer: \"))\n",
    "        n2 = int(input(\"enter second integer: \"))\n",
    "        if n1 <0 or n2 <0:\n",
    "            raise Exception('negative not allowed')\n",
    "        div = n1/n2\n",
    "        print(\"division is \",div)\n",
    "        break\n",
    "    except ValueError:\n",
    "        print(\"please enter ineger only\")\n",
    "    except ZeroDivisionError:\n",
    "        print(\"please enter non-zero denominator\")\n",
    "    except Exception as e:\n",
    "        print(e)\n",
    "        "
   ]
  },
  {
   "cell_type": "code",
   "execution_count": null,
   "id": "7c2e8c4e",
   "metadata": {},
   "outputs": [],
   "source": []
  },
  {
   "cell_type": "markdown",
   "id": "b3cdd95e",
   "metadata": {},
   "source": [
    "### Final Block"
   ]
  },
  {
   "cell_type": "markdown",
   "id": "c906b136",
   "metadata": {},
   "source": [
    "- finally always exceute in python"
   ]
  },
  {
   "cell_type": "code",
   "execution_count": null,
   "id": "732bb8eb",
   "metadata": {},
   "outputs": [],
   "source": []
  },
  {
   "cell_type": "code",
   "execution_count": null,
   "id": "e1bfe416",
   "metadata": {},
   "outputs": [],
   "source": []
  },
  {
   "cell_type": "markdown",
   "id": "f270068e",
   "metadata": {},
   "source": [
    "## Iterator"
   ]
  },
  {
   "cell_type": "code",
   "execution_count": 3,
   "id": "acbb1db1",
   "metadata": {},
   "outputs": [
    {
     "data": {
      "text/plain": [
       "'g'"
      ]
     },
     "execution_count": 3,
     "metadata": {},
     "output_type": "execute_result"
    }
   ],
   "source": [
    "# data ---> string, list object ----> iterable\n",
    "#(iterable converted into iterator)\n",
    "# for ---> call iter() and next() \n",
    "# for loop find entire lenght of the elememt ---> were to stop\n",
    "\n",
    "s = \"guarv\"\n",
    "s = iter(s)\n",
    "next(s)\n"
   ]
  },
  {
   "cell_type": "markdown",
   "id": "944343ff",
   "metadata": {},
   "source": [
    "## Generator"
   ]
  },
  {
   "cell_type": "code",
   "execution_count": 19,
   "id": "a75e4ec3",
   "metadata": {},
   "outputs": [],
   "source": [
    "# yield() ----> only generate data not return output\n",
    "# give output on calling object\n",
    "# in function using yield() instead of return()\n",
    "# range() function is a generator func.\n",
    "# it will throw output one by one \n",
    "#in case of return it will generate only after complete list\n"
   ]
  },
  {
   "cell_type": "code",
   "execution_count": 14,
   "id": "bbb4b346",
   "metadata": {},
   "outputs": [
    {
     "data": {
      "text/plain": [
       "[1, 1, 2, 3, 5, 8, 13, 21, 34, 55, 89, 144, 233, 377, 610]"
      ]
     },
     "execution_count": 14,
     "metadata": {},
     "output_type": "execute_result"
    }
   ],
   "source": [
    "def genfib(n):\n",
    "    a = 1 \n",
    "    b = 1\n",
    "    l = []\n",
    "    for i in range(n):\n",
    "        l.append(a)\n",
    "        a,b = b, a+b\n",
    "    return l\n",
    "\n",
    "genfib(15)"
   ]
  },
  {
   "cell_type": "code",
   "execution_count": 18,
   "id": "546aaf63",
   "metadata": {},
   "outputs": [
    {
     "name": "stdout",
     "output_type": "stream",
     "text": [
      "<generator object genfib1 at 0x0000025D26188900>\n",
      "1\n",
      "1\n",
      "2\n",
      "3\n",
      "5\n",
      "8\n",
      "13\n",
      "21\n",
      "34\n",
      "55\n"
     ]
    }
   ],
   "source": [
    "def genfib1(n):\n",
    "    a = 1 \n",
    "    b = 1\n",
    "    for i in range(n):\n",
    "        yield a\n",
    "        a,b = b, a+b\n",
    "\n",
    "print(genfib1(10))\n",
    "for i in genfib1(10):\n",
    "    print(i)"
   ]
  },
  {
   "cell_type": "code",
   "execution_count": null,
   "id": "9f598875",
   "metadata": {},
   "outputs": [],
   "source": []
  },
  {
   "cell_type": "code",
   "execution_count": null,
   "id": "296e446e",
   "metadata": {},
   "outputs": [],
   "source": []
  },
  {
   "cell_type": "code",
   "execution_count": null,
   "id": "222e5d42",
   "metadata": {},
   "outputs": [],
   "source": []
  },
  {
   "cell_type": "code",
   "execution_count": null,
   "id": "e0a8c4d1",
   "metadata": {},
   "outputs": [],
   "source": []
  },
  {
   "cell_type": "code",
   "execution_count": null,
   "id": "d2275a4c",
   "metadata": {},
   "outputs": [],
   "source": []
  },
  {
   "cell_type": "code",
   "execution_count": null,
   "id": "3c22f3ef",
   "metadata": {},
   "outputs": [],
   "source": []
  },
  {
   "cell_type": "markdown",
   "id": "1234f25c",
   "metadata": {},
   "source": [
    "### file operation"
   ]
  },
  {
   "cell_type": "code",
   "execution_count": 38,
   "id": "d601ce8e",
   "metadata": {},
   "outputs": [],
   "source": [
    "f =open(\"name.txt\", 'w')    # creating file"
   ]
  },
  {
   "cell_type": "markdown",
   "id": "53bc12ad",
   "metadata": {},
   "source": [
    "# mode : \n",
    "w-- write (overwrite) (delete previous and write new one)    \n",
    "r-- read       \n",
    "a-- append information      \n",
    "convert everthing in string format then append in file\n"
   ]
  },
  {
   "cell_type": "code",
   "execution_count": 39,
   "id": "c25bee8d",
   "metadata": {},
   "outputs": [],
   "source": [
    "f.write(\"this is my first file operation\")\n",
    "f.close()"
   ]
  },
  {
   "cell_type": "code",
   "execution_count": 40,
   "id": "c7b72795",
   "metadata": {},
   "outputs": [
    {
     "data": {
      "text/plain": [
       "'this is my first file operation'"
      ]
     },
     "execution_count": 40,
     "metadata": {},
     "output_type": "execute_result"
    }
   ],
   "source": [
    "f =open(\"name.txt\")\n",
    "f.read()"
   ]
  },
  {
   "cell_type": "code",
   "execution_count": 41,
   "id": "9fe0182e",
   "metadata": {},
   "outputs": [
    {
     "data": {
      "text/plain": [
       "''"
      ]
     },
     "execution_count": 41,
     "metadata": {},
     "output_type": "execute_result"
    }
   ],
   "source": [
    "f.read()"
   ]
  },
  {
   "cell_type": "code",
   "execution_count": 48,
   "id": "f0119631",
   "metadata": {},
   "outputs": [],
   "source": [
    "f.seek(0)  # reset pointer/cursor to starting or require place\n",
    "f.read()\n",
    "f.tell()   # tells where pointer is available inside file\n",
    "f.readlines()  # return all the lines present in file\n",
    "f.close()"
   ]
  },
  {
   "cell_type": "code",
   "execution_count": null,
   "id": "6af28e22",
   "metadata": {},
   "outputs": [],
   "source": []
  },
  {
   "cell_type": "markdown",
   "id": "42d6f4d1",
   "metadata": {},
   "source": [
    "## Map function"
   ]
  },
  {
   "cell_type": "markdown",
   "id": "92cbafe1",
   "metadata": {},
   "source": [
    " takes two objects functions nd iterable"
   ]
  },
  {
   "cell_type": "code",
   "execution_count": 50,
   "id": "89680838",
   "metadata": {},
   "outputs": [
    {
     "data": {
      "text/plain": [
       "[1, 4, 9, 16, 25, 36]"
      ]
     },
     "execution_count": 50,
     "metadata": {},
     "output_type": "execute_result"
    }
   ],
   "source": [
    "l = [1,2,3,4,5,6]\n",
    "def sq(n):\n",
    "    return n**2\n",
    "\n",
    "list(map(sq,l))"
   ]
  },
  {
   "cell_type": "code",
   "execution_count": 51,
   "id": "bae4108d",
   "metadata": {},
   "outputs": [
    {
     "data": {
      "text/plain": [
       "[1, 4, 9, 16, 25, 36]"
      ]
     },
     "execution_count": 51,
     "metadata": {},
     "output_type": "execute_result"
    }
   ],
   "source": [
    "list(map(lambda x: x**2,l))"
   ]
  },
  {
   "cell_type": "code",
   "execution_count": null,
   "id": "120fc331",
   "metadata": {},
   "outputs": [],
   "source": []
  },
  {
   "cell_type": "code",
   "execution_count": null,
   "id": "ebb07d1d",
   "metadata": {},
   "outputs": [],
   "source": []
  },
  {
   "cell_type": "code",
   "execution_count": null,
   "id": "e6a016a0",
   "metadata": {},
   "outputs": [],
   "source": []
  },
  {
   "cell_type": "markdown",
   "id": "22baf2e3",
   "metadata": {},
   "source": [
    "### Reduce function\n",
    "\n",
    "taking two element/parameter at a time"
   ]
  },
  {
   "cell_type": "code",
   "execution_count": 52,
   "id": "c792084f",
   "metadata": {},
   "outputs": [],
   "source": [
    "from functools import reduce"
   ]
  },
  {
   "cell_type": "code",
   "execution_count": 53,
   "id": "f9f4150f",
   "metadata": {},
   "outputs": [
    {
     "data": {
      "text/plain": [
       "21"
      ]
     },
     "execution_count": 53,
     "metadata": {},
     "output_type": "execute_result"
    }
   ],
   "source": [
    "l =[1,2,3,4,5,6]\n",
    "\n",
    "reduce(lambda a,b : a+b,l)"
   ]
  },
  {
   "cell_type": "code",
   "execution_count": 54,
   "id": "0ae0275e",
   "metadata": {},
   "outputs": [
    {
     "data": {
      "text/plain": [
       "720"
      ]
     },
     "execution_count": 54,
     "metadata": {},
     "output_type": "execute_result"
    }
   ],
   "source": [
    "reduce(lambda a,b : a*b,l)"
   ]
  },
  {
   "cell_type": "markdown",
   "id": "dd6380a3",
   "metadata": {},
   "source": [
    "## Filter function\n",
    "\n",
    "filter out the data"
   ]
  },
  {
   "cell_type": "code",
   "execution_count": 56,
   "id": "1dd3dc2e",
   "metadata": {},
   "outputs": [
    {
     "data": {
      "text/plain": [
       "[2, 4, 6]"
      ]
     },
     "execution_count": 56,
     "metadata": {},
     "output_type": "execute_result"
    }
   ],
   "source": [
    "l = [1,2,3,4,5,6,7]    #even number\n",
    "list(filter(lambda x : x%2==0, l))"
   ]
  },
  {
   "cell_type": "code",
   "execution_count": null,
   "id": "1987b9bf",
   "metadata": {},
   "outputs": [],
   "source": []
  }
 ],
 "metadata": {
  "kernelspec": {
   "display_name": "Python 3",
   "language": "python",
   "name": "python3"
  },
  "language_info": {
   "codemirror_mode": {
    "name": "ipython",
    "version": 3
   },
   "file_extension": ".py",
   "mimetype": "text/x-python",
   "name": "python",
   "nbconvert_exporter": "python",
   "pygments_lexer": "ipython3",
   "version": "3.8.8"
  }
 },
 "nbformat": 4,
 "nbformat_minor": 5
}
