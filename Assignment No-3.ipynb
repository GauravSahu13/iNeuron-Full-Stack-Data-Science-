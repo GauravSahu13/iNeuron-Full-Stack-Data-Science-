{
 "cells": [
  {
   "cell_type": "markdown",
   "id": "ff1a2225",
   "metadata": {},
   "source": [
    "Why are functions advantageous to have in your programs?\n",
    "\n",
    "--->Functions reduce the need for duplicate code. This makes programs shorter, easier to read, and easier to update."
   ]
  },
  {
   "cell_type": "markdown",
   "id": "d7180be3",
   "metadata": {},
   "source": [
    "When does the code in a function run: when it's specified or when it's called?\n",
    "\n",
    "---> The code in function run when it's called"
   ]
  },
  {
   "cell_type": "markdown",
   "id": "8d9fdf3f",
   "metadata": {},
   "source": [
    "What statement creates a function?\n",
    "\n",
    "--->def function():\n",
    "        -----------\n",
    "        -----------\n",
    "        return ----"
   ]
  },
  {
   "cell_type": "markdown",
   "id": "e488ed3e",
   "metadata": {},
   "source": [
    "What is the difference between a function and a function call?\n",
    "\n",
    "---> A function is a block of code that does a particular operation and returns a result. It usually accepts inputs as parameters and returns a result. The parameters are not mandatory.\n",
    "\n",
    "E.g:\n",
    "Function add(a,b)\n",
    "return a+ b\n",
    "\n",
    "A function call is the code used to pass control to a function.\n",
    "\n",
    "E.g.:\n",
    "\n",
    "b = add(5,6)\n"
   ]
  },
  {
   "cell_type": "markdown",
   "id": "42aaae8a",
   "metadata": {},
   "source": [
    "What happens to variables in a local scope when the function call returns?\n",
    "\n",
    "---> A local variable retains its value until the next time the function is called A local variable becomes undefined after the function call completes The local variable can be used outside the function any time after the function call completes."
   ]
  },
  {
   "cell_type": "markdown",
   "id": "d2387fac",
   "metadata": {},
   "source": [
    "What is the concept of a return value? Is it possible to have a return value in an expression?\n",
    "\n",
    "---> A return statement is used to end the execution of the function call and “returns” the result (value of the expression following the return keyword) to the caller.The statements after the return statements are not executed. If the return statement is without any expression, then the special value None is returned."
   ]
  },
  {
   "cell_type": "markdown",
   "id": "bc534f02",
   "metadata": {},
   "source": [
    "If a function does not have a return statement, what is the return value of a call to that function?\n",
    "\n",
    "---> Function will return None"
   ]
  },
  {
   "cell_type": "markdown",
   "id": "31f873c0",
   "metadata": {},
   "source": [
    "How do you make a function variable refer to the global variable?\n",
    "\n",
    "---> \n",
    "x = 15\n",
    " \n",
    "def change():\n",
    "\n",
    "    global x\n",
    "    x = x + 5"
   ]
  },
  {
   "cell_type": "markdown",
   "id": "e50dcbe0",
   "metadata": {},
   "source": [
    "What is the data type of None?\n",
    "\n",
    "---> NoneType"
   ]
  },
  {
   "cell_type": "markdown",
   "id": "dcbef586",
   "metadata": {},
   "source": [
    "What does the sentence import areallyourpetsnamederic do?\n",
    "\n",
    "---> this sentence will import library named areallyourpetsnamederic"
   ]
  },
  {
   "cell_type": "markdown",
   "id": "91788b97",
   "metadata": {},
   "source": [
    "If you had a bacon() feature in a spam module, what would you call it after importing spam?\n",
    "\n",
    "---> spam.bacon()"
   ]
  },
  {
   "cell_type": "markdown",
   "id": "5f0411cf",
   "metadata": {},
   "source": [
    "What is the purpose of the try clause? What is the purpose of the except clause?\n",
    "\n",
    "---> try block -- test a block of code for errors. \n",
    "except block -- handle the error. \n",
    "else block -- execute code when there is no error. \n",
    "finally block -- execute code, regardless of the result of the try- and except blocks."
   ]
  },
  {
   "cell_type": "code",
   "execution_count": null,
   "id": "2a8de9c5",
   "metadata": {},
   "outputs": [],
   "source": []
  }
 ],
 "metadata": {
  "kernelspec": {
   "display_name": "Python 3",
   "language": "python",
   "name": "python3"
  },
  "language_info": {
   "codemirror_mode": {
    "name": "ipython",
    "version": 3
   },
   "file_extension": ".py",
   "mimetype": "text/x-python",
   "name": "python",
   "nbconvert_exporter": "python",
   "pygments_lexer": "ipython3",
   "version": "3.8.8"
  }
 },
 "nbformat": 4,
 "nbformat_minor": 5
}
