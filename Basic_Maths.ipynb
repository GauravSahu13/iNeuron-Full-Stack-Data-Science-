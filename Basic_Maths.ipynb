{
  "nbformat": 4,
  "nbformat_minor": 0,
  "metadata": {
    "colab": {
      "provenance": [],
      "authorship_tag": "ABX9TyOHGq4kUVXqiNnjGqzce23o",
      "include_colab_link": true
    },
    "kernelspec": {
      "name": "python3",
      "display_name": "Python 3"
    },
    "language_info": {
      "name": "python"
    }
  },
  "cells": [
    {
      "cell_type": "markdown",
      "metadata": {
        "id": "view-in-github",
        "colab_type": "text"
      },
      "source": [
        "<a href=\"https://colab.research.google.com/github/GauravSahu13/iNeuron-Full-Stack-Data-Science-/blob/classWork/Basic_Maths.ipynb\" target=\"_parent\"><img src=\"https://colab.research.google.com/assets/colab-badge.svg\" alt=\"Open In Colab\"/></a>"
      ]
    },
    {
      "cell_type": "code",
      "execution_count": null,
      "metadata": {
        "id": "CxT47Pv574Da"
      },
      "outputs": [],
      "source": []
    },
    {
      "cell_type": "markdown",
      "source": [
        "**Count Number / Extraction of digits**"
      ],
      "metadata": {
        "id": "V8wCAGQm9qJA"
      }
    },
    {
      "cell_type": "code",
      "source": [
        "n = int(input(\"enter number \"))\n",
        "count = 0\n",
        "while( n != 0):\n",
        "  last_digit = n % 10\n",
        "  count = count + 1\n",
        "  n = n // 10        # TC : O(log(N))\n",
        "  print(\"last_digit : \",last_digit)\n",
        "print(\"count : \",count)"
      ],
      "metadata": {
        "colab": {
          "base_uri": "https://localhost:8080/"
        },
        "id": "9u8AsBlj9y_A",
        "outputId": "dd3683b9-7594-4924-8814-cb40d9646b98"
      },
      "execution_count": null,
      "outputs": [
        {
          "output_type": "stream",
          "name": "stdout",
          "text": [
            "enter number 4\n",
            "last_digit :  4\n",
            "count :  1\n"
          ]
        }
      ]
    },
    {
      "cell_type": "code",
      "source": [
        "import math\n",
        "def count_digits(n):\n",
        "  digits = math.floor(math.log10(n) + 1)\n",
        "  return digits\n",
        "n = int(input(\"enter number \"))\n",
        "print(\"Number of digits in \", n, \" is \", count_digits(n))\n"
      ],
      "metadata": {
        "colab": {
          "base_uri": "https://localhost:8080/"
        },
        "id": "ZhpN-93B-Tr5",
        "outputId": "70943390-3749-47a6-d8d8-775c5072605d"
      },
      "execution_count": null,
      "outputs": [
        {
          "output_type": "stream",
          "name": "stdout",
          "text": [
            "enter number 12345\n",
            "Number of digits in  12345  is  5\n"
          ]
        }
      ]
    },
    {
      "cell_type": "markdown",
      "source": [
        "**Reverse a Number**"
      ],
      "metadata": {
        "id": "9BD_x9L3-WmX"
      }
    },
    {
      "cell_type": "code",
      "source": [
        "n = int(input(\"enter number \"))          # TC -> O(n)    SC -> O(1)\n",
        "num = n\n",
        "reverse = 0\n",
        "while n != 0:\n",
        "  digit = n % 10\n",
        "  reverse = reverse *10 + digit\n",
        "  n = n // 10\n",
        "print(\"reverse of {} is {} \".format(num, reverse))"
      ],
      "metadata": {
        "id": "Hm1A-YD8_36B",
        "colab": {
          "base_uri": "https://localhost:8080/"
        },
        "outputId": "66194920-788b-4d3d-a68b-6f0aa144667c"
      },
      "execution_count": 13,
      "outputs": [
        {
          "output_type": "stream",
          "name": "stdout",
          "text": [
            "enter number 12365\n",
            "reverse of 12365 is 56321 \n"
          ]
        }
      ]
    },
    {
      "cell_type": "markdown",
      "source": [
        "**Palindrome Number**  121---> 121"
      ],
      "metadata": {
        "id": "QdyidBQhVWla"
      }
    },
    {
      "cell_type": "code",
      "source": [
        "def reverse(n):                 # TC -> O(logN)   SC -->O(1)\n",
        "  rev = 0\n",
        "  while n>0:\n",
        "    digit = n % 10\n",
        "    rev = rev *10 + digit\n",
        "    n = n // 10\n",
        "  return rev\n",
        "\n",
        "n = int(input(\"enter number \"))\n",
        "check = n\n",
        "rev = reverse(n)\n",
        "if check == rev:\n",
        "  print(\"Palindrome Number\")\n",
        "else:\n",
        "  print(\"Not Plindrome Number\")"
      ],
      "metadata": {
        "id": "iY0D3YbZUc06",
        "colab": {
          "base_uri": "https://localhost:8080/"
        },
        "outputId": "9237be4f-9d81-4e6f-b0f9-b43960650d10"
      },
      "execution_count": 15,
      "outputs": [
        {
          "output_type": "stream",
          "name": "stdout",
          "text": [
            "enter number 121\n",
            "Palindrome Number\n"
          ]
        }
      ]
    },
    {
      "cell_type": "markdown",
      "source": [
        "**Armstrong Number**                   \n",
        "  153 = 1 + 125 + 9"
      ],
      "metadata": {
        "id": "TKYkx0I_Wq0-"
      }
    },
    {
      "cell_type": "code",
      "source": [
        "def ArmstrongNumber(n):                 # TC -> O(n)    SC -> O(1)\n",
        "    originalno = n\n",
        "    count = 0\n",
        "    temp = n\n",
        "    while temp != 0:\n",
        "        count += 1\n",
        "        temp //= 10\n",
        "    sumofpower = 0\n",
        "    while n != 0:\n",
        "        digit = n % 10\n",
        "        sumofpower += pow(digit, count)\n",
        "        n //= 10\n",
        "    return sumofpower == originalno\n",
        "\n",
        "if __name__ == \"__main__\":\n",
        "    n1 = int(input(\"enter number \"))\n",
        "    if ArmstrongNumber(n1):\n",
        "        print(\"Yes, it is an Armstrong Number\")\n",
        "    else:\n",
        "        print(\"No, it is not an Armstrong Number\")"
      ],
      "metadata": {
        "colab": {
          "base_uri": "https://localhost:8080/"
        },
        "id": "ycNXwahEWqI2",
        "outputId": "8e473dc3-39b4-41da-8dcf-fd0f6ab8a5df"
      },
      "execution_count": 17,
      "outputs": [
        {
          "output_type": "stream",
          "name": "stdout",
          "text": [
            "enter number 58\n",
            "No, it is not an Armstrong Number\n"
          ]
        }
      ]
    },
    {
      "cell_type": "markdown",
      "source": [
        "**HCF / GCD**"
      ],
      "metadata": {
        "id": "vUnbL-fKX2ah"
      }
    },
    {
      "cell_type": "code",
      "source": [
        "num1 = 4                                    # TC -> O(n)    SC -> O(1)\n",
        "num2 = 8\n",
        "ans = 1\n",
        "for i in range(1, min(num1, num2) + 1):\n",
        "  if num1 % i == 0 and num2 % i == 0:\n",
        "    ans = i\n",
        "print(\"The GCD of the two numbers is\", ans)"
      ],
      "metadata": {
        "colab": {
          "base_uri": "https://localhost:8080/"
        },
        "id": "riasgOF5X1aV",
        "outputId": "9a616151-8477-4d52-dc12-c517376d88a2"
      },
      "execution_count": 18,
      "outputs": [
        {
          "output_type": "stream",
          "name": "stdout",
          "text": [
            "The GCD of the two numbers is 4\n"
          ]
        }
      ]
    },
    {
      "cell_type": "code",
      "source": [
        "def gcd(a, b):             # TC --> O(logɸmin(a,b)), where ɸ is 1.61.\n",
        "    if b == 0:             # SC --> O(1)\n",
        "        return a\n",
        "    return gcd(b, a % b)\n",
        "\n",
        "if __name__ == \"__main__\":\n",
        "    a = 4\n",
        "    b = 8\n",
        "    print(\"The GCD of the two numbers is\", gcd(a, b))"
      ],
      "metadata": {
        "colab": {
          "base_uri": "https://localhost:8080/"
        },
        "id": "-7fk-lnzWc0F",
        "outputId": "c18e174c-d70d-4e60-8541-f7656d372661"
      },
      "execution_count": 19,
      "outputs": [
        {
          "output_type": "stream",
          "name": "stdout",
          "text": [
            "The GCD of the two numbers is 4\n"
          ]
        }
      ]
    },
    {
      "cell_type": "markdown",
      "source": [
        "**Print All Divisor**"
      ],
      "metadata": {
        "id": "ygHlWey4YnSt"
      }
    },
    {
      "cell_type": "code",
      "source": [
        "def printDivisorsBruteForce(n):              # TC -> O(n)    SC -> O(1)\n",
        "    print(\"The Divisors of \",n,\" are:\")\n",
        "    for i in range(1,n+1):\n",
        "        if n % i == 0:\n",
        "            print(i,end=\" \")\n",
        "    print()\n",
        "if __name__ == \"__main__\":\n",
        "    printDivisorsBruteForce(36)"
      ],
      "metadata": {
        "colab": {
          "base_uri": "https://localhost:8080/"
        },
        "id": "9DaINgSaYQyw",
        "outputId": "23dfb69a-c806-4c16-fd0c-d03724205264"
      },
      "execution_count": 20,
      "outputs": [
        {
          "output_type": "stream",
          "name": "stdout",
          "text": [
            "The Divisors of  36  are:\n",
            "1 2 3 4 6 9 12 18 36 \n"
          ]
        }
      ]
    },
    {
      "cell_type": "code",
      "source": [
        "def printDivisorsOptimal(n):                   # TC--> O(sqrt(n))\n",
        "    print(\"The Divisors of\",n,\"are:\")\n",
        "    for i in range(1, int(n**0.5)+1):\n",
        "        if n % i == 0:\n",
        "            print(i, end=\" \")\n",
        "            if i != n/i:\n",
        "                print(int(n/i), end=\" \")\n",
        "    print()\n",
        "if __name__ == \"__main__\":\n",
        "    printDivisorsOptimal(36)"
      ],
      "metadata": {
        "colab": {
          "base_uri": "https://localhost:8080/"
        },
        "id": "WMKiQoHAYyqw",
        "outputId": "6b9939fe-5e94-4068-efa8-2c09ac036787"
      },
      "execution_count": 21,
      "outputs": [
        {
          "output_type": "stream",
          "name": "stdout",
          "text": [
            "The Divisors of 36 are:\n",
            "1 36 2 18 3 12 4 9 6 \n"
          ]
        }
      ]
    },
    {
      "cell_type": "markdown",
      "source": [
        "**Prime Number**"
      ],
      "metadata": {
        "id": "V63e21hMZCok"
      }
    },
    {
      "cell_type": "code",
      "source": [
        "# TC -> O(n)    SC -> O(1)\n",
        "def isPrime(n):\n",
        "    for i in range(2, n):\n",
        "        if n % i == 0:\n",
        "            return False\n",
        "    return True\n",
        "\n",
        "if __name__ == \"__main__\":\n",
        "    n = 11\n",
        "    ans = isPrime(n)\n",
        "    if n != 1 and ans == True:\n",
        "        print(\"Prime Number\")\n",
        "    else:\n",
        "        print(\"Non Prime Number\")\n"
      ],
      "metadata": {
        "colab": {
          "base_uri": "https://localhost:8080/"
        },
        "id": "lfzKyK60YzIK",
        "outputId": "9b601fb3-8521-4d6d-ce34-10a7877ca44b"
      },
      "execution_count": 22,
      "outputs": [
        {
          "output_type": "stream",
          "name": "stdout",
          "text": [
            "Prime Number\n"
          ]
        }
      ]
    },
    {
      "cell_type": "code",
      "source": [
        "# TC--> O(sqrt(n))\n",
        "from math import sqrt\n",
        "def isPrime(N):\n",
        "    for i in range(2, int(sqrt(N))):\n",
        "        if N % i == 0:\n",
        "            return False\n",
        "    return True\n",
        "\n",
        "if __name__ == \"__main__\":\n",
        "    n = 11\n",
        "    ans = isPrime(n)\n",
        "    if n != 1 and ans == True:\n",
        "        print(\"Prime Number\")\n",
        "    else:\n",
        "        print(\"Non Prime Number\")\n"
      ],
      "metadata": {
        "colab": {
          "base_uri": "https://localhost:8080/"
        },
        "id": "Ky9OzkHGZS55",
        "outputId": "b5f1e0f4-ad54-41fc-e97d-3e54ec238e9b"
      },
      "execution_count": 23,
      "outputs": [
        {
          "output_type": "stream",
          "name": "stdout",
          "text": [
            "Prime Number\n"
          ]
        }
      ]
    },
    {
      "cell_type": "code",
      "source": [],
      "metadata": {
        "id": "9GIm2VoTZfU9"
      },
      "execution_count": null,
      "outputs": []
    }
  ]
}