{
 "cells": [
  {
   "cell_type": "markdown",
   "id": "58c81feb",
   "metadata": {},
   "source": [
    "Is the Python Standard Library included with PyInputPlus?\n",
    "\n",
    "--->PyInputPlus is not a part of the Python Standard Library.So need to install\n",
    "    pip install pyinputplus"
   ]
  },
  {
   "cell_type": "markdown",
   "id": "4beeabb0",
   "metadata": {},
   "source": [
    "Why is PyInputPlus commonly imported with import pyinputplus as pypi?\n",
    "\n",
    "---> To enter a shorter name when calling the module's functions."
   ]
  },
  {
   "cell_type": "markdown",
   "id": "15e61382",
   "metadata": {},
   "source": [
    "How do you distinguish between inputInt() and inputFloat()?\n",
    "\n",
    "--->The inputInt() function returns an integer, while the inputFloat() function returns a float value."
   ]
  },
  {
   "cell_type": "markdown",
   "id": "f4d50b66",
   "metadata": {},
   "source": [
    "Using PyInputPlus, how do you ensure that the user enters a whole number between 0 and 99?\n",
    "\n",
    "---> By using pyip.inputint(min=0, max=99)"
   ]
  },
  {
   "cell_type": "markdown",
   "id": "a7333a37",
   "metadata": {},
   "source": [
    "What is transferred to the keyword arguments allowRegexes and blockRegexes?\n",
    "\n",
    "---> A list of regex strings that are either explicitly allowed or denied"
   ]
  },
  {
   "cell_type": "markdown",
   "id": "98f2c961",
   "metadata": {},
   "source": [
    "If a blank input is entered three times, what does inputStr(limit=3) do?\n",
    "\n",
    "---> The function will raise RetryLimitException."
   ]
  },
  {
   "cell_type": "markdown",
   "id": "527a294f",
   "metadata": {},
   "source": [
    "If blank input is entered three times, what does inputStr(limit=3, default=&#39;hello&#39;) do?\n",
    "\n",
    "--> The function returns the value 'hello'"
   ]
  },
  {
   "cell_type": "code",
   "execution_count": null,
   "id": "b4c7be5a",
   "metadata": {},
   "outputs": [],
   "source": []
  }
 ],
 "metadata": {
  "kernelspec": {
   "display_name": "Python 3",
   "language": "python",
   "name": "python3"
  },
  "language_info": {
   "codemirror_mode": {
    "name": "ipython",
    "version": 3
   },
   "file_extension": ".py",
   "mimetype": "text/x-python",
   "name": "python",
   "nbconvert_exporter": "python",
   "pygments_lexer": "ipython3",
   "version": "3.8.8"
  }
 },
 "nbformat": 4,
 "nbformat_minor": 5
}
