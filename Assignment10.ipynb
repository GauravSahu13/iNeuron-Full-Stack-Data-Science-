{
  "nbformat": 4,
  "nbformat_minor": 0,
  "metadata": {
    "colab": {
      "provenance": []
    },
    "kernelspec": {
      "name": "python3",
      "display_name": "Python 3"
    },
    "language_info": {
      "name": "python"
    }
  },
  "cells": [
    {
      "cell_type": "markdown",
      "source": [
        "1. How do you distinguish between shutil.copy() and shutil.copytree()?\n",
        "\n",
        "---> The shutil.copy() function will copy a single file. \n",
        "\n",
        "shutil.copytree() will copy an entire folder, along with all its contents."
      ],
      "metadata": {
        "id": "BDgUi5uhtV26"
      }
    },
    {
      "cell_type": "markdown",
      "source": [
        "2. What function is used to rename files??\n",
        "\n",
        "--->The shutil.move() function is used for renaming files, as well as moving them"
      ],
      "metadata": {
        "id": "ZV1eDIXDt3TG"
      }
    },
    {
      "cell_type": "markdown",
      "source": [
        "3. What is the difference between the delete functions in the send2trash and shutil modules?\n",
        "\n",
        "--->  The send2trash functions will move a file or folder to the recycle bin, while shutil functions will permanently delete files and folders."
      ],
      "metadata": {
        "id": "KhWpcDnSt_nw"
      }
    },
    {
      "cell_type": "markdown",
      "source": [
        "4.ZipFile objects have a close() method just like File objects’ close() method. What ZipFile method is equivalent to File objects’ open() method?\n",
        "\n",
        "---> The zipfile.ZipFile() function is equivalent to the open() function; the first argument is the filename, and the second argument is the mode to open the ZIP file in (read, write, or append)."
      ],
      "metadata": {
        "id": "XpcNrcFWuH0W"
      }
    },
    {
      "cell_type": "markdown",
      "source": [
        "5. Create a programme that searches a folder tree for files with a certain file extension (such as .pdf or .jpg). Copy these files from whatever location they are in to a new folder\n",
        "\n",
        "--->import os, shutil\n",
        "\n",
        "sourcePath = input(‘Enter the absolute path of the source folder: ‘)\n",
        "\n",
        " fileExtType = input(‘Enter the type of file to copy (such as .pdf or .jpg): ‘).lower()\n",
        "\n",
        " destPath = input(‘Enter the absolute path of the destination folder: ‘)\n",
        "\n",
        "for foldername, subfolders, filenames in os.walk(sourcePath):\n",
        "\n",
        " for filename in filenames:\n",
        "\n",
        " if filename.lower().endswith(fileExtType):\n",
        "\n",
        " #print(foldername + ‘\\\\’ + filename)\n",
        " copySourcePath = os.path.join(foldername, filename)\n",
        " #print(copySourcePath)\n",
        "shutil.copy(copySourcePath, destPath)\n",
        "\n",
        " else:\n",
        " continue\n",
        "\n"
      ],
      "metadata": {
        "id": "YGORV7eZuUWQ"
      }
    }
  ]
}