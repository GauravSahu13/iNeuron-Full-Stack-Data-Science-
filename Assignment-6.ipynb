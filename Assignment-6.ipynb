{
 "cells": [
  {
   "cell_type": "markdown",
   "id": "588f3aec",
   "metadata": {},
   "source": [
    "What are escape characters, and how do you use them?\n",
    "\n",
    "--> \\t -- use for spaces ,  \\n -- for next line , \\r -- carriage return. "
   ]
  },
  {
   "cell_type": "markdown",
   "id": "fb834c5e",
   "metadata": {},
   "source": [
    "What do the escape characters n and t stand for?\n",
    "\n",
    "---> \\t -- use for spaces , \\n -- for next line ,"
   ]
  },
  {
   "cell_type": "markdown",
   "id": "bdf3f6b2",
   "metadata": {},
   "source": [
    "What is the way to include backslash characters in a string?\n",
    "\n",
    "---> The \\\\ escape character will represent a backslash character."
   ]
  },
  {
   "cell_type": "markdown",
   "id": "0a325fa5",
   "metadata": {},
   "source": [
    "How do you write a string of newlines if you don&#39;t want to use the n character?\n",
    "\n",
    "---> Multiline strings can be used."
   ]
  },
  {
   "cell_type": "markdown",
   "id": "81c565d1",
   "metadata": {},
   "source": [
    "The string &quot;Howl&#39;s Moving Castle&quot; is a correct value. Why isn&#39;t the single quote character in the\n",
    "word Howl&#39;s not escaped a problem?\n",
    "\n",
    "---> The single quote in Howl's is fine because you've used double quotes to mark the beginning and end of the string."
   ]
  },
  {
   "cell_type": "markdown",
   "id": "7e30469d",
   "metadata": {},
   "source": [
    "What are the values of the given expressions?\n",
    "\n",
    "&#39;Hello, world!&#39;[1]  --->  'e'\n",
    "\n",
    "&#39;Hello, world!&#39;[0:5] ---> 'Hello'\n",
    "\n",
    "&#39;Hello, world!&#39;[:5] --->  'Hello'\n",
    "\n",
    "&#39;Hello, world!&#39;[3:]---> 'lo world!\n",
    "\n"
   ]
  },
  {
   "cell_type": "markdown",
   "id": "787d118b",
   "metadata": {},
   "source": [
    "What are the values of the following expressions?\n",
    "\n",
    "&#39;Hello&#39;.upper()             ---->   'HELLO'\n",
    "\n",
    "&#39;Hello&#39;.upper().isupper()   ----->  True\n",
    "\n",
    "&#39;Hello&#39;.upper().lower()    ---->  'hello'"
   ]
  },
  {
   "cell_type": "markdown",
   "id": "efe8069c",
   "metadata": {},
   "source": [
    "What are the values of the following expressions?\n",
    "\n",
    "&#39;Remember, remember, the fifth of July.&#39;.split() --->   ['Remember,', 'remember,', 'the', 'fifth', 'of', 'November.']\n",
    "\n",
    "&#39;-&#39;.join(&#39;There can only one.&#39;.split()) ---->  'There-can-be-only-one.\n"
   ]
  },
  {
   "cell_type": "markdown",
   "id": "0735d193",
   "metadata": {},
   "source": [
    "What are the methods for right-justifying, left-justifying, and centering a string?\n",
    "\n",
    "---> str.ljust(s, width[, fillchar])\n",
    "str.rjust(s, width[, fillchar])\n",
    "str.center(s, width[, fillchar])"
   ]
  },
  {
   "cell_type": "markdown",
   "id": "29979d68",
   "metadata": {},
   "source": [
    "What is the best way to remove whitespace characters from the start or end?\n",
    "\n",
    "----> trimStart() or trimEnd() method."
   ]
  },
  {
   "cell_type": "code",
   "execution_count": null,
   "id": "b71f5c3e",
   "metadata": {},
   "outputs": [],
   "source": []
  }
 ],
 "metadata": {
  "kernelspec": {
   "display_name": "Python 3",
   "language": "python",
   "name": "python3"
  },
  "language_info": {
   "codemirror_mode": {
    "name": "ipython",
    "version": 3
   },
   "file_extension": ".py",
   "mimetype": "text/x-python",
   "name": "python",
   "nbconvert_exporter": "python",
   "pygments_lexer": "ipython3",
   "version": "3.8.8"
  }
 },
 "nbformat": 4,
 "nbformat_minor": 5
}
