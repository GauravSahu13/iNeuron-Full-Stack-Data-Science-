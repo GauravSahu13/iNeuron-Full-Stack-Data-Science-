{
 "cells": [
  {
   "cell_type": "markdown",
   "id": "d2f14ebc",
   "metadata": {},
   "source": [
    "1.What are the two values of the Boolean data type? How do you write them?\n",
    "\n",
    "Any numbers having zero as a value is considered as False, while if they are having value as any positive or negative number then it is considered as True.\n",
    "bool()- inbuilt method"
   ]
  },
  {
   "cell_type": "markdown",
   "id": "fccdfa48",
   "metadata": {},
   "source": [
    "2.What are the three different types of Boolean operators?\n",
    "\n",
    "AND, OR, NOT"
   ]
  },
  {
   "cell_type": "markdown",
   "id": "26112be1",
   "metadata": {},
   "source": [
    "3.Make a list of each Boolean operator&#39;s truth tables (i.e. every possible combination of Boolean\n",
    "values for the operator and what it evaluate ).\n",
    "\n",
    "True=1  False=0\n",
    "\n",
    "AND operator\n",
    "\n",
    "A   B\t  A AND B\n",
    "\n",
    "0\t0       0\t\n",
    "\n",
    "0   1       0\n",
    "\n",
    "1   0       0\n",
    "\n",
    "1   1       1\n",
    "\n",
    "\n",
    "OR operator\n",
    "\n",
    "A   B\t  A OR B\n",
    "\n",
    "0\t0       0\t\n",
    "\n",
    "0   1       1\n",
    "\n",
    "1   0       1\n",
    "\n",
    "1   1       1\n",
    "\n",
    "\n",
    "NOT operator\n",
    "\n",
    "A     NOT A\n",
    "\n",
    "0\t   1  \n",
    "\n",
    "1      0     \n"
   ]
  },
  {
   "cell_type": "markdown",
   "id": "407d2e66",
   "metadata": {},
   "source": [
    "4.What are the values of the following expressions?\n",
    "(5 &gt; 4) and (3 == 5)\n",
    "not (5 &gt; 4)\n",
    "(5 &gt; 4) or (3 == 5)\n",
    "not ((5 &gt; 4) or (3 == 5))\n",
    "(True and True) and (True == False)\n",
    "(not False) or (not True)\n",
    "\n",
    "\n",
    "\n",
    "(5 &gt; 4) and (3 == 5)  =     False\n",
    "\n",
    "not (5 &gt; 4)  =       False\n",
    "\n",
    "(5 &gt; 4) or (3 == 5) =     True\n",
    "\n",
    "not ((5 &gt; 4) or (3 == 5)) =    False\n",
    "\n",
    "(True and True) and (True == False) =  False\n",
    "\n",
    "(not False) or (not True) =   True"
   ]
  },
  {
   "cell_type": "markdown",
   "id": "ce2cbf98",
   "metadata": {},
   "source": [
    "5.What are the six comparison operators?\n",
    "\n",
    " less than ( < )\n",
    " \n",
    " less than or equal to ( <= )\n",
    " \n",
    " greater than ( > )\n",
    " \n",
    " greater than or equal to ( >= )\n",
    " \n",
    " equal to ( == )\n",
    " \n",
    " not equal to ( != )."
   ]
  },
  {
   "cell_type": "markdown",
   "id": "d1deb341",
   "metadata": {},
   "source": [
    "6.How do you tell the difference between the equal to and assignment operators?Describe a\n",
    "condition and when you would use one.\n",
    "\n",
    "Equal(==) operator checks whether the two given operands are equal or not. If so, it returns true. Otherwise it returns false.\n",
    "Assignment(=) operator is used to assign the value on the right to the variable on the left. "
   ]
  },
  {
   "cell_type": "markdown",
   "id": "03f7ee4d",
   "metadata": {},
   "source": [
    "7.Identify the three blocks in this code:\n",
    "spam = 0\n",
    "if spam == 10:\n",
    "print(&#39;eggs&#39;)\n",
    "if spam &gt; 5:\n",
    "print(&#39;bacon&#39;)\n",
    "else:\n",
    "print(&#39;ham&#39;)\n",
    "print(&#39;spam&#39;)\n",
    "print(&#39;spam&#39;)\n",
    "\n",
    "\n",
    "Three Blocks:\n",
    " print('eggs')\n",
    "    if spam > 5:\n",
    "        print('bacon')\n",
    "    else:\n",
    "        print('ham')\n",
    "    print('spam')\n"
   ]
  },
  {
   "cell_type": "markdown",
   "id": "bee1050b",
   "metadata": {},
   "source": [
    "8.Write code that prints Hello if 1 is stored in spam, prints Howdy if 2 is stored in spam, and prints\n",
    "Greetings! if anything else is stored in spam."
   ]
  },
  {
   "cell_type": "code",
   "execution_count": 15,
   "id": "6b5c936f",
   "metadata": {},
   "outputs": [
    {
     "name": "stdout",
     "output_type": "stream",
     "text": [
      "1\n",
      "Hello\n"
     ]
    }
   ],
   "source": [
    "spam = int(input())\n",
    "if spam == 1:\n",
    "    print('Hello')\n",
    "elif spam == 2:\n",
    "    print('Howdy')\n",
    "else:\n",
    "    print('Greeting')"
   ]
  },
  {
   "cell_type": "markdown",
   "id": "9949f65b",
   "metadata": {},
   "source": [
    "9.If your programme is stuck in an endless loop, what keys you’ll press?\n",
    "\n",
    "Ctrl + C"
   ]
  },
  {
   "cell_type": "markdown",
   "id": "46f29709",
   "metadata": {},
   "source": [
    "10.How can you tell the difference between break and continue?\n",
    "\n",
    "when break keyword comes, it terminates the execution of the current loop and passes the control over the next loop or main body, whereas when continue keyword is encountered, it skips the current iteration and executes the very next iteration in the loop."
   ]
  },
  {
   "cell_type": "markdown",
   "id": "6d2d804e",
   "metadata": {},
   "source": [
    "11.In a for loop, what is the difference between range(10), range(0, 10), and range(0, 10, 1)?\n",
    "\n",
    "range(10) will bydefault start with 0 and end at after 10 iteration\n",
    "\n",
    "range(0,10) will start with 0 and end at after 10 iteration\n",
    "\n",
    "range(0,10,1) will start with 0 and end at after 10 iteration with steps of 1."
   ]
  },
  {
   "cell_type": "markdown",
   "id": "0dfdd4ab",
   "metadata": {},
   "source": [
    "12.Write a short program that prints the numbers 1 to 10 using a for loop. Then write an equivalent\n",
    "program that prints the numbers 1 to 10 using a while loop."
   ]
  },
  {
   "cell_type": "markdown",
   "id": "95078e93",
   "metadata": {},
   "source": [
    "for i in range(1,11):\n",
    "    print(i)\n",
    "    \n",
    "i = 1\n",
    "while i < 11:\n",
    "  print(i)\n",
    "  i += 1"
   ]
  },
  {
   "cell_type": "markdown",
   "id": "93e0bb9e",
   "metadata": {},
   "source": [
    "13.If you had a function named bacon() inside a module named spam, how would you call it after\n",
    "importing spam?\n",
    "\n",
    "import spam\n",
    "\n",
    "spam.bacon()\n"
   ]
  },
  {
   "cell_type": "code",
   "execution_count": null,
   "id": "b546de99",
   "metadata": {},
   "outputs": [],
   "source": []
  },
  {
   "cell_type": "code",
   "execution_count": null,
   "id": "17ef9437",
   "metadata": {},
   "outputs": [],
   "source": []
  },
  {
   "cell_type": "code",
   "execution_count": null,
   "id": "dd1aaffe",
   "metadata": {},
   "outputs": [],
   "source": []
  }
 ],
 "metadata": {
  "kernelspec": {
   "display_name": "Python 3",
   "language": "python",
   "name": "python3"
  },
  "language_info": {
   "codemirror_mode": {
    "name": "ipython",
    "version": 3
   },
   "file_extension": ".py",
   "mimetype": "text/x-python",
   "name": "python",
   "nbconvert_exporter": "python",
   "pygments_lexer": "ipython3",
   "version": "3.8.8"
  }
 },
 "nbformat": 4,
 "nbformat_minor": 5
}
