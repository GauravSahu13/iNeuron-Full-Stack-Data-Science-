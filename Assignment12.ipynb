{
  "nbformat": 4,
  "nbformat_minor": 0,
  "metadata": {
    "colab": {
      "provenance": []
    },
    "kernelspec": {
      "name": "python3",
      "display_name": "Python 3"
    },
    "language_info": {
      "name": "python"
    }
  },
  "cells": [
    {
      "cell_type": "markdown",
      "source": [
        "1. In what modes should the PdfFileReader() and PdfFileWriter() File objects will be opened?\n",
        "--> These files will be opened in binary mode., read binary (rb) for PdfFileREader() and write binary (wb) PdfFileWriter()\n",
        "\n",
        "2. From a PdfFileReader object, how do you get a Page object for page 5?\n",
        "-->Calling getPage(4) will return a Page object for page 5 since page 0 is the first page\n",
        "\n",
        "3. What PdfFileReader variable stores the number of pages in the PDF document?\n",
        "--> The total number of pages in the document is stored in the numPages attribute of a PdfFileReader object \n",
        "\n",
        "4. If a PdfFileReader object’s PDF is encrypted with the password swordfish, what must you do before you can obtain Page objects from it?\n",
        "--> Before we obtain the page object, the pdf has to be decrypted by calling .decrypt('swordfish')\n",
        "\n",
        "5. What methods do you use to rotate a page?\n",
        "-->The rotateClockwise() and rotateCounterClockwise() methods. The degrees to rotate is passed as an integer argument\n",
        "\n",
        "6. What is the difference between a Run object and a Paragraph object?\n",
        "--> Paragraph Object : A document contains multiple paragraphs. A paragraph begins on a new line and contains multiple runs. The Document object contains a list of Paragraph objects for the paragraphs in the document. (A new paragraph begins whenever the user presses ENTER or RETURN while typing in a Word document.)\n",
        "\n",
        "Run Objects : Runs are contiguous groups of characters within a paragraph with the same style\n",
        "\n",
        "7. How do you obtain a list of Paragraph objects for a Document object that’s stored in a variable named doc?\n",
        "-->import docx\n",
        "doc = docx.Document('abc.docx')\n",
        "doc.paragraphs\n",
        "\n",
        "8. What type of object has bold, underline, italic, strike, and outline variables?\n",
        "-->A Run object has bold, underline,italic,strike and outline variables\n",
        "\n",
        "9. What is the difference between False, True, and None for the bold variable?\n",
        "--> Runs can be further styled using text attributes. Each attribute can be set to one of three values:\n",
        "True (the attribute is always enabled, no matter what other styles are applied to the run),\n",
        "False (the attribute is always disabled),\n",
        "None (defaults to whatever the run’s style is set to)\n",
        "\n",
        "True always makes the Run object bolded and False makes it always not bolded, no matter what the style’s bold setting is. None will make the Run object just use the style’s bold setting\n",
        "\n",
        "10. How do you create a Document object for a new Word document?\n",
        "-->By Calling the docx.Document() function.\n",
        "\n",
        "11. How do you add a paragraph with the text &#39;Hello, there!&#39; to a Document object stored in a variable named doc?\n",
        "-->\n",
        "import docx\n",
        "doc = docx.Document()\n",
        "doc.add_paragraph('Hello there!')\n",
        "doc.save('hellothere.docx')\n",
        "\n",
        "12. What integers represent the levels of headings available in Word documents?\n",
        "-->integer from 0 to 4\n",
        "The arguments to add_heading() are a string of the heading text and an integer from 0 to 4. The integer 0 makes the heading the Title style, which is used for the top of the document. Integers 1 to 4 are for various heading levels, with 1 being the main heading and 4 the lowest subheading"
      ],
      "metadata": {
        "id": "uMouHdrAvdkh"
      }
    },
    {
      "cell_type": "code",
      "source": [],
      "metadata": {
        "id": "m8JlYpeHyYOO"
      },
      "execution_count": null,
      "outputs": []
    }
  ]
}