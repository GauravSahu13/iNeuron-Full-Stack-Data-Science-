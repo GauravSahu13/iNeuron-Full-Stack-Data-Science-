{
 "cells": [
  {
   "cell_type": "code",
   "execution_count": null,
   "id": "37931ca1",
   "metadata": {},
   "outputs": [],
   "source": []
  },
  {
   "cell_type": "markdown",
   "id": "43ac62e9",
   "metadata": {},
   "source": [
    "import pandas as pd\n",
    "\n",
    "readfile\n",
    "- df = pd.read_csv(r'E:\\Gaurav\\Gaurav\\EDA\\sales_data_final.csv')    # \n",
    "\n",
    "- df.head()\n",
    "\n",
    "- df.tail()\n"
   ]
  },
  {
   "cell_type": "markdown",
   "id": "6b6babc7",
   "metadata": {},
   "source": [
    "- df.dtypes      \n",
    "\n",
    "- df.columns\n",
    "\n",
    "- df [['c1','c2']]    ---> get as dataframe\n",
    "\n",
    "- df ['c1']                ---> fetch as a series ( list )"
   ]
  },
  {
   "cell_type": "code",
   "execution_count": null,
   "id": "952d1ffa",
   "metadata": {},
   "outputs": [],
   "source": []
  },
  {
   "cell_type": "markdown",
   "id": "a4a9d2ad",
   "metadata": {},
   "source": [
    "- df.describe()  --->  satistical analysis\n",
    "\n",
    "gives only for numerical based columns\n"
   ]
  },
  {
   "cell_type": "markdown",
   "id": "1f1bad71",
   "metadata": {},
   "source": [
    "---> data type is object \n",
    "-  df [df.dtypes [df.dtypes == 'object'].index].describe()"
   ]
  },
  {
   "cell_type": "code",
   "execution_count": null,
   "id": "a1233520",
   "metadata": {},
   "outputs": [],
   "source": []
  },
  {
   "cell_type": "markdown",
   "id": "5d5bbb42",
   "metadata": {},
   "source": [
    "- df [ 'column-name' ].isnull()"
   ]
  },
  {
   "cell_type": "code",
   "execution_count": null,
   "id": "17523d51",
   "metadata": {},
   "outputs": [],
   "source": []
  },
  {
   "cell_type": "markdown",
   "id": "78b24754",
   "metadata": {},
   "source": [
    "changing into timestamp format\n",
    "\n",
    "- date = pd.to_datetime(df['coulmn_name'])\n",
    "\n",
    "- df [ 'column_name' ].dt.year     \n",
    "\n",
    "- df [ 'column_name' ].dt.month\n",
    "\n",
    "- df [ 'column_name' ].dt.week\n",
    "\n",
    "- df [ 'column_name' ].dt.weekofyear           # no.of week left "
   ]
  },
  {
   "cell_type": "code",
   "execution_count": null,
   "id": "e352e1d7",
   "metadata": {},
   "outputs": [],
   "source": []
  },
  {
   "cell_type": "markdown",
   "id": "7012d69d",
   "metadata": {},
   "source": [
    "for deleting column\n",
    "\n",
    "- df.drop('column_name',axis=1,inplace=True)\n",
    "\n",
    "axis = 0  means row search\n",
    "\n",
    "axis = 1  means column search"
   ]
  },
  {
   "cell_type": "markdown",
   "id": "f9f0eec3",
   "metadata": {},
   "source": [
    "drop column or row based on null values\n",
    "\n",
    "- df.dropna()\n",
    "\n",
    "- df.dropna(tresh = 3) \n",
    "minimum  3 values (NAN) in row, so 1/2 (NAN values)will drop that row only\n",
    "\n",
    "- df.fillna( value=4 ) \n",
    "replace NAN by 4"
   ]
  },
  {
   "cell_type": "code",
   "execution_count": null,
   "id": "f54a3211",
   "metadata": {},
   "outputs": [],
   "source": []
  },
  {
   "cell_type": "markdown",
   "id": "06b69133",
   "metadata": {},
   "source": []
  },
  {
   "cell_type": "markdown",
   "id": "797ff0e0",
   "metadata": {},
   "source": [
    "sorting row wise record\n",
    "\n",
    "- df.loc[[2,3], ['c1,c2,c3]]   --> matrix\n",
    "\n",
    "- df.loc[2:10:2]\n",
    "\n",
    "loc --> row location   ( taking named index )\n",
    "\n",
    "iloc ---> row and column location (matrix) (takes default indexs)\n",
    "\n",
    "- df.iloc[0:4 , 0:3]\n"
   ]
  },
  {
   "cell_type": "code",
   "execution_count": null,
   "id": "a5c67575",
   "metadata": {},
   "outputs": [],
   "source": []
  },
  {
   "cell_type": "markdown",
   "id": "8f9d3087",
   "metadata": {},
   "source": [
    "adding both the dataframe\n",
    "\n",
    "- pd.concat([df,df1])  ---> row wise\n",
    "\n",
    "- pd.concat[df,df1], axis =1)  ---> column wise"
   ]
  },
  {
   "cell_type": "code",
   "execution_count": null,
   "id": "6f11def0",
   "metadata": {},
   "outputs": [],
   "source": []
  },
  {
   "cell_type": "markdown",
   "id": "32150094",
   "metadata": {},
   "source": [
    "**Merge operation**\n",
    "\n",
    "taking common data/ column_name  [inner join]\n",
    "- pd.merge[df1,df2]\n",
    "\n",
    "left join\n",
    "- pd.merge(df1,df2,   how ='left')\n",
    "\n",
    "right join\n",
    "- pd.merge(df1,df2,   how ='right')\n",
    "\n",
    "different column names\n",
    "- pd.merge(df6,df7 , left_on='col1' , right_on='col2',how = 'inner')\n"
   ]
  },
  {
   "cell_type": "code",
   "execution_count": null,
   "id": "6d22524f",
   "metadata": {},
   "outputs": [],
   "source": []
  },
  {
   "cell_type": "markdown",
   "id": "d5a56d89",
   "metadata": {},
   "source": [
    "**Join Operation**\n",
    "\n",
    "based on row index\n",
    "- df1.join(df)"
   ]
  },
  {
   "cell_type": "code",
   "execution_count": null,
   "id": "aa6382fe",
   "metadata": {},
   "outputs": [],
   "source": []
  },
  {
   "cell_type": "markdown",
   "id": "178294cc",
   "metadata": {},
   "source": [
    "df_sales['square_quantity'] = df_sales['quantity'].apply(lambda a : a**2)\n",
    "\n",
    "- square_quantity--> new column\n",
    "- quantity --> old column\n",
    "- apply ( function)"
   ]
  },
  {
   "cell_type": "code",
   "execution_count": null,
   "id": "27269114",
   "metadata": {},
   "outputs": [],
   "source": []
  },
  {
   "cell_type": "code",
   "execution_count": null,
   "id": "b4af5e6e",
   "metadata": {},
   "outputs": [],
   "source": []
  },
  {
   "cell_type": "markdown",
   "id": "88288343",
   "metadata": {},
   "source": [
    "**Numpy**\n",
    "\n",
    "import numpy as np\n",
    "\n",
    "- np.array([1,2,3,4], [2,3,4,5])\n",
    "\n",
    "shape of array\n",
    "- arr.ndim     (2D, 3D)\n",
    "\n",
    "creating matrix\n",
    "- np.random.randint(1,10,(4,4))\n",
    "- integers 1 to 10  & 4*4 matrix\n",
    "\n",
    "np.random.randint(1,10,(4,4,2))\n",
    "- 4 matrix of size 4*2\n"
   ]
  },
  {
   "cell_type": "code",
   "execution_count": null,
   "id": "49025983",
   "metadata": {},
   "outputs": [],
   "source": []
  }
 ],
 "metadata": {
  "kernelspec": {
   "display_name": "Python 3",
   "language": "python",
   "name": "python3"
  },
  "language_info": {
   "codemirror_mode": {
    "name": "ipython",
    "version": 3
   },
   "file_extension": ".py",
   "mimetype": "text/x-python",
   "name": "python",
   "nbconvert_exporter": "python",
   "pygments_lexer": "ipython3",
   "version": "3.8.8"
  }
 },
 "nbformat": 4,
 "nbformat_minor": 5
}
