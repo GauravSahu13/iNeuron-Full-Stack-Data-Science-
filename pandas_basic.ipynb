{
  "cells": [
    {
      "cell_type": "code",
      "execution_count": null,
      "id": "37931ca1",
      "metadata": {
        "id": "37931ca1"
      },
      "outputs": [],
      "source": []
    },
    {
      "cell_type": "markdown",
      "id": "43ac62e9",
      "metadata": {
        "id": "43ac62e9"
      },
      "source": [
        "import pandas as pd\n",
        "\n",
        "readfile\n",
        "- df = pd.read_csv(r'E:\\Gaurav\\Gaurav\\EDA\\sales_data_final.csv')    #\n",
        "\n",
        "- df.head()\n",
        "\n",
        "- df.tail()\n"
      ]
    },
    {
      "cell_type": "markdown",
      "id": "6b6babc7",
      "metadata": {
        "id": "6b6babc7"
      },
      "source": [
        "- df.dtypes      \n",
        "\n",
        "- df.columns\n",
        "\n",
        "- df [['c1','c2']]    ---> get as dataframe\n",
        "\n",
        "- df ['c1']                ---> fetch as a series ( list )"
      ]
    },
    {
      "cell_type": "code",
      "execution_count": null,
      "id": "952d1ffa",
      "metadata": {
        "id": "952d1ffa"
      },
      "outputs": [],
      "source": []
    },
    {
      "cell_type": "markdown",
      "id": "a4a9d2ad",
      "metadata": {
        "id": "a4a9d2ad"
      },
      "source": [
        "- df.describe()  --->  satistical analysis\n",
        "\n",
        "gives only for numerical based columns\n"
      ]
    },
    {
      "cell_type": "markdown",
      "id": "1f1bad71",
      "metadata": {
        "id": "1f1bad71"
      },
      "source": [
        "---> data type is object\n",
        "-  df [df.dtypes [df.dtypes == 'object'].index].describe()"
      ]
    },
    {
      "cell_type": "code",
      "execution_count": null,
      "id": "a1233520",
      "metadata": {
        "id": "a1233520"
      },
      "outputs": [],
      "source": []
    },
    {
      "cell_type": "markdown",
      "id": "5d5bbb42",
      "metadata": {
        "id": "5d5bbb42"
      },
      "source": [
        "- df [ 'column-name' ].isnull()"
      ]
    },
    {
      "cell_type": "code",
      "execution_count": null,
      "id": "17523d51",
      "metadata": {
        "id": "17523d51"
      },
      "outputs": [],
      "source": []
    },
    {
      "cell_type": "markdown",
      "id": "78b24754",
      "metadata": {
        "id": "78b24754"
      },
      "source": [
        "changing into timestamp format\n",
        "\n",
        "- date = pd.to_datetime(df['coulmn_name'])\n",
        "\n",
        "- df [ 'column_name' ].dt.year     \n",
        "\n",
        "- df [ 'column_name' ].dt.month\n",
        "\n",
        "- df [ 'column_name' ].dt.week\n",
        "\n",
        "- df [ 'column_name' ].dt.weekofyear           # no.of week left"
      ]
    },
    {
      "cell_type": "code",
      "execution_count": null,
      "id": "e352e1d7",
      "metadata": {
        "id": "e352e1d7"
      },
      "outputs": [],
      "source": []
    },
    {
      "cell_type": "markdown",
      "id": "7012d69d",
      "metadata": {
        "id": "7012d69d"
      },
      "source": [
        "for deleting column\n",
        "\n",
        "- df.drop('column_name',axis=1,inplace=True)\n",
        "\n",
        "axis = 0  means row search\n",
        "\n",
        "axis = 1  means column search"
      ]
    },
    {
      "cell_type": "markdown",
      "id": "f9f0eec3",
      "metadata": {
        "id": "f9f0eec3"
      },
      "source": [
        "drop column or row based on null values\n",
        "\n",
        "- df.dropna()\n",
        "\n",
        "- df.dropna(tresh = 3)\n",
        "minimum  3 values (NAN) in row, so 1/2 (NAN values)will drop that row only\n",
        "\n",
        "- df.fillna( value=4 )\n",
        "replace NAN by 4"
      ]
    },
    {
      "cell_type": "code",
      "execution_count": null,
      "id": "f54a3211",
      "metadata": {
        "id": "f54a3211"
      },
      "outputs": [],
      "source": []
    },
    {
      "cell_type": "markdown",
      "id": "06b69133",
      "metadata": {
        "id": "06b69133"
      },
      "source": []
    },
    {
      "cell_type": "markdown",
      "id": "797ff0e0",
      "metadata": {
        "id": "797ff0e0"
      },
      "source": [
        "sorting row wise record\n",
        "\n",
        "- df.loc[[2,3], ['c1,c2,c3]]   --> matrix\n",
        "\n",
        "- df.loc[2:10:2]\n",
        "\n",
        "loc --> row location   ( taking named index )\n",
        "\n",
        "iloc ---> row and column location (matrix) (takes default indexs)\n",
        "\n",
        "- df.iloc[0:4 , 0:3]\n"
      ]
    },
    {
      "cell_type": "code",
      "execution_count": null,
      "id": "a5c67575",
      "metadata": {
        "id": "a5c67575"
      },
      "outputs": [],
      "source": []
    },
    {
      "cell_type": "markdown",
      "id": "8f9d3087",
      "metadata": {
        "id": "8f9d3087"
      },
      "source": [
        "adding both the dataframe\n",
        "\n",
        "- pd.concat([df,df1])  ---> row wise\n",
        "\n",
        "- pd.concat[df,df1], axis =1)  ---> column wise"
      ]
    },
    {
      "cell_type": "code",
      "execution_count": null,
      "id": "6f11def0",
      "metadata": {
        "id": "6f11def0"
      },
      "outputs": [],
      "source": []
    },
    {
      "cell_type": "markdown",
      "id": "32150094",
      "metadata": {
        "id": "32150094"
      },
      "source": [
        "**Merge operation**\n",
        "\n",
        "taking common data/ column_name  [inner join]\n",
        "- pd.merge[df1,df2]\n",
        "\n",
        "left join\n",
        "- pd.merge(df1,df2,   how ='left')\n",
        "\n",
        "right join\n",
        "- pd.merge(df1,df2,   how ='right')\n",
        "\n",
        "different column names\n",
        "- pd.merge(df6,df7 , left_on='col1' , right_on='col2',how = 'inner')\n"
      ]
    },
    {
      "cell_type": "code",
      "execution_count": null,
      "id": "6d22524f",
      "metadata": {
        "id": "6d22524f"
      },
      "outputs": [],
      "source": []
    },
    {
      "cell_type": "markdown",
      "id": "d5a56d89",
      "metadata": {
        "id": "d5a56d89"
      },
      "source": [
        "**Join Operation**\n",
        "\n",
        "based on row index\n",
        "- df1.join(df)"
      ]
    },
    {
      "cell_type": "code",
      "execution_count": null,
      "id": "aa6382fe",
      "metadata": {
        "id": "aa6382fe"
      },
      "outputs": [],
      "source": []
    },
    {
      "cell_type": "markdown",
      "id": "178294cc",
      "metadata": {
        "id": "178294cc"
      },
      "source": [
        "df_sales['square_quantity'] = df_sales['quantity'].apply(lambda a : a**2)\n",
        "\n",
        "- square_quantity--> new column\n",
        "- quantity --> old column\n",
        "- apply ( function)"
      ]
    },
    {
      "cell_type": "code",
      "execution_count": null,
      "id": "27269114",
      "metadata": {
        "id": "27269114"
      },
      "outputs": [],
      "source": []
    },
    {
      "cell_type": "code",
      "execution_count": null,
      "id": "b4af5e6e",
      "metadata": {
        "id": "b4af5e6e"
      },
      "outputs": [],
      "source": []
    },
    {
      "cell_type": "markdown",
      "id": "88288343",
      "metadata": {
        "id": "88288343"
      },
      "source": [
        "**Numpy**\n",
        "\n",
        "import numpy as np\n",
        "\n",
        "- np.array([1,2,3,4], [2,3,4,5])\n",
        "\n",
        "all data type will be return in string\n",
        "\n",
        "Dimension of array\n",
        "- arr.ndim     (2D, 3D)\n",
        "- a.size   ( no of element in array)\n",
        "\n",
        "Shape of matrix\n",
        "- a.shape\n",
        "\n",
        "Reshape matrix\n",
        "- a.reshape(row,col)\n",
        "\n",
        "creating matrix\n",
        "- np.random.randint(1,10,(4,4))\n",
        "- -generating random integer\n",
        "- integers 1 to 10  & 4*4 matrix\n",
        "\n",
        "np.random.randint(1,10,(4,4,2))\n",
        "- 4 matrix of size 4*2\n"
      ]
    },
    {
      "cell_type": "code",
      "execution_count": null,
      "id": "49025983",
      "metadata": {
        "id": "49025983"
      },
      "outputs": [],
      "source": []
    },
    {
      "cell_type": "markdown",
      "source": [
        "Random Function\n",
        "\n",
        "- np.random.rand(4,4)    (random data)    \n",
        "\n",
        "- np.random.randint()\n",
        "\n",
        "- np.random.randn(4,4)\n",
        "--generating Standard Deviation data with 4*4 matrix"
      ],
      "metadata": {
        "id": "y86wfP5U5hbi"
      },
      "id": "y86wfP5U5hbi"
    },
    {
      "cell_type": "code",
      "source": [],
      "metadata": {
        "id": "vrSF0CaKAUzc"
      },
      "id": "vrSF0CaKAUzc",
      "execution_count": null,
      "outputs": []
    },
    {
      "cell_type": "code",
      "source": [],
      "metadata": {
        "id": "Sdbabt8x5gCD"
      },
      "id": "Sdbabt8x5gCD",
      "execution_count": null,
      "outputs": []
    },
    {
      "cell_type": "markdown",
      "source": [
        "Formula\n",
        "\n",
        "- *matrix multiple*    =    a2 * a3\n",
        "- *add* = a2 + 100 (all elements will add)\n",
        "- *divide* = a / 0   ( this will not give error) (result= inf)\n",
        "- *All zero* = np.zeros(2,2)\n",
        "- *all one* = np.ones(2,2)\n",
        "- *for columns use transpose* = np.arr[1,2].T    ( minimum 2D array requires)\n",
        "- *square root *= np.sqrt(a)\n",
        "- *expo* = np.exp(a)\n",
        "- *array range*= a.arange(0,10,2.5)  (accepts float number too which list not accept)\n",
        "- np.linspace(2,3, num =50)  (generates 50 numbers btw 2 & 3)\n",
        "- np.logspace(2,3, num= 4, base = 10)\n",
        "- *identity matrix *= np.eye(5)\n"
      ],
      "metadata": {
        "id": "zpzB5llz7Pv3"
      },
      "id": "zpzB5llz7Pv3"
    },
    {
      "cell_type": "code",
      "source": [],
      "metadata": {
        "id": "atdzgzrq_w0i"
      },
      "id": "atdzgzrq_w0i",
      "execution_count": null,
      "outputs": []
    }
  ],
  "metadata": {
    "kernelspec": {
      "display_name": "Python 3",
      "language": "python",
      "name": "python3"
    },
    "language_info": {
      "codemirror_mode": {
        "name": "ipython",
        "version": 3
      },
      "file_extension": ".py",
      "mimetype": "text/x-python",
      "name": "python",
      "nbconvert_exporter": "python",
      "pygments_lexer": "ipython3",
      "version": "3.8.8"
    },
    "colab": {
      "provenance": []
    }
  },
  "nbformat": 4,
  "nbformat_minor": 5
}