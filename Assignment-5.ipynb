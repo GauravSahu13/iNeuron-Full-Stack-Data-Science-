{
 "cells": [
  {
   "cell_type": "markdown",
   "id": "3460e540",
   "metadata": {},
   "source": [
    "What does an empty dictionary's code look like?\n",
    " \n",
    "\n",
    "Assign the variable to an empty set of curly braces, {} . Another way of creating an empty dictionary is to use the dict() function without passing any arguments.\n",
    "With no value(key index error)"
   ]
  },
  {
   "cell_type": "markdown",
   "id": "a46456ad",
   "metadata": {},
   "source": [
    "What is the value of a dictionary value with the key 'foo' and the value 42?\n",
    "\n",
    "{'foo':42}"
   ]
  },
  {
   "cell_type": "markdown",
   "id": "e19ad2cd",
   "metadata": {},
   "source": [
    "What is the most significant distinction between a dictionary and a list?\n",
    "\n",
    "1)List is created by placing elements in [] separated by commas \",\" & Dictionary is created by placing elements in { } as “key”:”value”, each key value pair is separated by commas \",\".\n",
    "2)The indices of list are integers starting from 0 whereas the keys of dictionary can be of any data type.\n",
    "3)The elements are accessed via indices whereas In dictionary the elements are accessed via key-values."
   ]
  },
  {
   "cell_type": "markdown",
   "id": "7e50a4e6",
   "metadata": {},
   "source": [
    "What happens if you try to access spam ['foo'] if spam is {'bar': 100}? \n",
    "\n",
    "A Traceback error. Get a KeyError \n"
   ]
  },
  {
   "cell_type": "markdown",
   "id": "cb54c1bb",
   "metadata": {},
   "source": [
    "If a dictionary is stored in spam, what is the difference between the expressions 'cat' in spam and 'cat' in spam.values()?\n",
    "\n",
    "Spam[0] evaluates to cat and derivative from zero giving spam [1] and evaluating again ‘bat’ and so on."
   ]
  },
  {
   "cell_type": "markdown",
   "id": "61595e81",
   "metadata": {},
   "source": [
    "What is a shortcut for the following code?\n",
    "if 'color' not in spam:\n",
    "spam['color'] = 'black'\n",
    "\n",
    "spam.setdefault('color', 'black')"
   ]
  },
  {
   "cell_type": "markdown",
   "id": "be23eadb",
   "metadata": {},
   "source": [
    "How do you \"pretty print\" dictionary values using which module and function?\n",
    "\n",
    "pprint()\n"
   ]
  }
 ],
 "metadata": {
  "kernelspec": {
   "display_name": "Python 3",
   "language": "python",
   "name": "python3"
  },
  "language_info": {
   "codemirror_mode": {
    "name": "ipython",
    "version": 3
   },
   "file_extension": ".py",
   "mimetype": "text/x-python",
   "name": "python",
   "nbconvert_exporter": "python",
   "pygments_lexer": "ipython3",
   "version": "3.8.8"
  }
 },
 "nbformat": 4,
 "nbformat_minor": 5
}
