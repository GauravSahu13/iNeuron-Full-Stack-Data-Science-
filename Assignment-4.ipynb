{
 "cells": [
  {
   "cell_type": "markdown",
   "id": "b19ee936",
   "metadata": {},
   "source": [
    "What exactly is []?\n",
    "\n",
    "---> Empty list contain no element in it."
   ]
  },
  {
   "cell_type": "markdown",
   "id": "5f5c94ce",
   "metadata": {},
   "source": [
    "In a list of values stored in a variable called spam, how would you assign the value 'hello' as the\n",
    "third value? (Assume [2, 4, 6, 8, 10] are in spam.)\n",
    "\n",
    "---> spam = [2,4,6,8,10]\n",
    "spam[2] = 'hello'\n",
    "spam"
   ]
  },
  {
   "cell_type": "markdown",
   "id": "94edf432",
   "metadata": {},
   "source": [
    "What is the value of spam[int(int('3' * 2) / 11)]?\n",
    "\n",
    "---> [3]"
   ]
  },
  {
   "cell_type": "markdown",
   "id": "97b1436b",
   "metadata": {},
   "source": [
    "spam = ['a','b','c','d']\n",
    "What is the value of spam[-1]? \n",
    "\n",
    "---> ['d']"
   ]
  },
  {
   "cell_type": "markdown",
   "id": "10bcdeec",
   "metadata": {},
   "source": [
    "What is the value of spam[:2]?\n",
    "\n",
    "--->['a', 'b']"
   ]
  },
  {
   "cell_type": "markdown",
   "id": "dc477826",
   "metadata": {},
   "source": [
    "What is the value of bacon.index('cat')?\n",
    "bacon = [3.14,'cat',11, True]\n",
    "\n",
    "---> 1\n"
   ]
  },
  {
   "cell_type": "markdown",
   "id": "539105b2",
   "metadata": {},
   "source": [
    "How does bacon.append(99) change the look of the list value in bacon?\n",
    "\n",
    "----> [3.14, 'cat', 11, True, 99]"
   ]
  },
  {
   "cell_type": "markdown",
   "id": "49a91d21",
   "metadata": {},
   "source": [
    "How does bacon.remove('cat') change the look of the list in bacon\n",
    "\n",
    "---> [3.14, 11, True, 99]"
   ]
  },
  {
   "cell_type": "markdown",
   "id": "d4b07cee",
   "metadata": {},
   "source": [
    "What are the list concatenation and list replication operators?\n",
    "\n",
    "---> The '+' operator can be used to concatenate two lists. It appends one list at the end of the other list and results in a new list as output.\n",
    "\n",
    "The multiplication operator acts as a replication operator when we have one string and one integer as operands"
   ]
  },
  {
   "cell_type": "markdown",
   "id": "2366fa7d",
   "metadata": {},
   "source": [
    "What is difference between the list methods append() and insert()?\n",
    "\n",
    "---> append() adds a single element to the end of the list while. \n",
    "\n",
    "extend() can add multiple individual elements to the end of the list"
   ]
  },
  {
   "cell_type": "markdown",
   "id": "bcbb35ce",
   "metadata": {},
   "source": [
    "What are the two methods for removing items from a list?\n",
    "\n",
    "---> In Python, use list methods clear() , pop() , and remove() to remove items (elements) from a list. It is also possible to delete items using del statement by specifying a position or range with an index or slice."
   ]
  },
  {
   "cell_type": "markdown",
   "id": "94d22c28",
   "metadata": {},
   "source": [
    " Describe how list values and string values are identical.\n",
    "\n",
    "--->strings are not interchangeable with lists because of some important differences.\n",
    "Strings can only consist of characters, while lists can contain any data type.String are immutable\n",
    "Strings can be defined as sequential collections of characters. This means that the individual characters that make up a string are in a particular order from left to right.A string that contains no characters, often referred to as the empty string,\n",
    "\n",
    "\n",
    "A list is a sequential collection of Python data values, where each value is identified by an index.list are mutable. The values that make up a list are called its elements. Lists are similar to strings, which are ordered collections of characters, except that the elements of a list can have any type and for any one list, the items can be of different types.\n",
    "There are several ways to create a new list. The simplest is to enclose the elements in square brackets[]"
   ]
  },
  {
   "cell_type": "markdown",
   "id": "2180b25e",
   "metadata": {},
   "source": [
    "What&#39;s the difference between tuples and lists?\n",
    "\n",
    "---> \tLists are mutable whereas Tuples are immutable.\n",
    "In List The implication of iterations is Time-consuming\twhile in tuples The implication of iterations is comparatively Faster.\n",
    "The list is better for performing operations, such as insertion and deletion.Tuple data type is appropriate for accessing the elements.\n",
    "Lists consume more memory whereas Tuple consumes less memory as compared to the list.\n",
    "Lists have several built-in methods\twhereas Tuple does not have many built-in methods.\n",
    "The unexpected changes and errors are more likely to occur in list whereas In tuple, it is hard to take place"
   ]
  },
  {
   "cell_type": "markdown",
   "id": "6a0c071d",
   "metadata": {},
   "source": [
    "How do you type a tuple value that only contains the integer 42?\n",
    "\n",
    "--->  42"
   ]
  },
  {
   "cell_type": "markdown",
   "id": "6b068c8f",
   "metadata": {},
   "source": [
    "How do you get a list value&#39;s tuple form? How do you get a tuple value&#39;s list form?\n",
    "\n",
    "--->  list value's tuple form : tuple(l)\n",
    "      tuple value's list form : list(t)"
   ]
  },
  {
   "cell_type": "markdown",
   "id": "3e854227",
   "metadata": {},
   "source": [
    "Variables that \"contain\" list values don't actually contain lists directly. What do they contain instead?\n",
    "\n",
    "--> They contain references to list values."
   ]
  },
  {
   "cell_type": "markdown",
   "id": "4bd08db0",
   "metadata": {},
   "source": [
    "How do you distinguish between copy.copy() and copy.deepcopy()?\n",
    "\n",
    "---> The copy.copy() function will do a shallow copy of a list, while the copy.deepcopy() function will do a deep copy of a list. That is, only copy.deepcopy() will duplicate any lists inside the list."
   ]
  },
  {
   "cell_type": "code",
   "execution_count": null,
   "id": "c32d1ed6",
   "metadata": {},
   "outputs": [],
   "source": []
  }
 ],
 "metadata": {
  "kernelspec": {
   "display_name": "Python 3",
   "language": "python",
   "name": "python3"
  },
  "language_info": {
   "codemirror_mode": {
    "name": "ipython",
    "version": 3
   },
   "file_extension": ".py",
   "mimetype": "text/x-python",
   "name": "python",
   "nbconvert_exporter": "python",
   "pygments_lexer": "ipython3",
   "version": "3.8.8"
  }
 },
 "nbformat": 4,
 "nbformat_minor": 5
}
