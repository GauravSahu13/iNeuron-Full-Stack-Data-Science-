{
 "cells": [
  {
   "cell_type": "code",
   "execution_count": null,
   "id": "a993b7e5",
   "metadata": {},
   "outputs": [],
   "source": [
    "s = \"this is My First Python programming class and i am learNING python string and its function\"\n",
    "1 . Try to extract data from index one to index 300 with a jump of 3 \n",
    "2. Try to reverse a string without using reverse function \n",
    "3. Try to split a string after conversion of entire string in uppercase \n",
    "4. try to convert the whole string into lower case \n",
    "5 . Try to capitalize the whole string \n",
    "6 . Write a diference between isalnum() and isalpha()\n",
    "7. Try to give an example of expand tab\n",
    "8 . Give an example of strip , lstrip and rstrip \n",
    "9.  Replace a string charecter by another charector by taking your own example \n",
    "\"sudhanshu\"\n",
    "10 . Try  to give a defination of string center function with and exmple \n",
    "11 . Write your own definition of compiler and interpretor without copy paste form internet in your own language\n",
    "12 . Python is a interpreted of compiled language give a clear ans with your understanding \n",
    "13 . Try to write a usecase of python with your understanding .\n"
   ]
  },
  {
   "cell_type": "code",
   "execution_count": 1,
   "id": "6f10ce15",
   "metadata": {},
   "outputs": [
    {
     "data": {
      "text/plain": [
       "'h   r tnrrmglsnimeNGyosi dtfco'"
      ]
     },
     "execution_count": 1,
     "metadata": {},
     "output_type": "execute_result"
    }
   ],
   "source": [
    "s = \"this is My First Python programming class and i am learNING python string and its function\"\n",
    "s[1:300:3]"
   ]
  },
  {
   "cell_type": "code",
   "execution_count": 2,
   "id": "3e8a9be4",
   "metadata": {},
   "outputs": [
    {
     "data": {
      "text/plain": [
       "'noitcnuf sti dna gnirts nohtyp GNINrael ma i dna ssalc gnimmargorp nohtyP tsriF yM si siht'"
      ]
     },
     "execution_count": 2,
     "metadata": {},
     "output_type": "execute_result"
    }
   ],
   "source": [
    "s[::-1]"
   ]
  },
  {
   "cell_type": "code",
   "execution_count": 3,
   "id": "3e456959",
   "metadata": {},
   "outputs": [
    {
     "data": {
      "text/plain": [
       "'This is my first python programming class and i am learning python string and its function'"
      ]
     },
     "execution_count": 3,
     "metadata": {},
     "output_type": "execute_result"
    }
   ],
   "source": [
    "s.upper()\n",
    "s.lower()\n",
    "s.capitalize()"
   ]
  },
  {
   "cell_type": "code",
   "execution_count": null,
   "id": "7086ec93",
   "metadata": {},
   "outputs": [],
   "source": [
    "isalnum():\n",
    "Purpose: Checks if all characters in the string are alphanumeric (consisting of alphabetic characters and numbers).\n",
    "Returns: True if the string is non-empty and all characters are alphanumeric, otherwise, it returns False.\n",
    "Characters allowed: Alphabetic characters (letters) and numeric characters (digits).\n",
    "Excludes: Other symbols or whitespace.\n",
    "    \n",
    "isalpha():\n",
    "Purpose: Checks if all characters in the string are alphabetic.\n",
    "Returns: True if the string is non-empty and all characters are alphabetic, otherwise, it returns False.\n",
    "Characters allowed: Alphabetic characters (letters).\n",
    "Excludes: Numeric digits, symbols, or whitespace.\n",
    "    \n",
    "\n",
    "isalnum() is more permissive, allowing both letters and numbers,\n",
    "while isalpha() is more restrictive, allowing only alphabetic characters."
   ]
  },
  {
   "cell_type": "code",
   "execution_count": 4,
   "id": "c41a341f",
   "metadata": {},
   "outputs": [
    {
     "data": {
      "text/plain": [
       "'Gaurav  Sahu    56'"
      ]
     },
     "execution_count": 4,
     "metadata": {},
     "output_type": "execute_result"
    }
   ],
   "source": [
    "#Try to give an example of expand tab\n",
    "\n",
    "s = \"Gaurav\\tSahu\\t56\"\n",
    "s.expandtabs()"
   ]
  },
  {
   "cell_type": "code",
   "execution_count": 5,
   "id": "5b15f0be",
   "metadata": {},
   "outputs": [
    {
     "data": {
      "text/plain": [
       "'Giuriv'"
      ]
     },
     "execution_count": 5,
     "metadata": {},
     "output_type": "execute_result"
    }
   ],
   "source": [
    "s=\"Gaurav\"\n",
    "s.replace('a','i')"
   ]
  },
  {
   "cell_type": "code",
   "execution_count": null,
   "id": "3eafe3ef",
   "metadata": {},
   "outputs": [],
   "source": [
    "# Try  to give a defination of string center function with and exmple\n",
    "the center() function in Python is like putting a string in the middle of a specified space. \n",
    "It takes a string and makes it appear centered within a larger space by adding characters on both sides.\n",
    "\n",
    "Input: You have a string that you want to center.\n",
    "Output: The function gives you a new string that is centered within a specified width.\n",
    "Padding: The extra spaces needed to center the string are filled with a character. If you don't specify a character, it defaults to using spaces.\n",
    "\n"
   ]
  },
  {
   "cell_type": "code",
   "execution_count": 9,
   "id": "ccb5ad3d",
   "metadata": {},
   "outputs": [
    {
     "data": {
      "text/plain": [
       "'#####Ineuron#####'"
      ]
     },
     "execution_count": 9,
     "metadata": {},
     "output_type": "execute_result"
    }
   ],
   "source": [
    "b = \"Ineuron\"    \n",
    "b.center(17, \"#\")"
   ]
  },
  {
   "cell_type": "code",
   "execution_count": null,
   "id": "c747d06f",
   "metadata": {},
   "outputs": [],
   "source": [
    "Compiler in Python:\n",
    "\n",
    "In Python, a compiler is responsible for translating the human-readable source code written in Python into an intermediate form known as bytecode.\n",
    "The Python compiler performs lexical analysis, syntax analysis, and generates bytecode instructions. This compilation process occurs automatically at runtime when a Python script is executed.\n",
    "The generated bytecode is not platform-specific and is saved in .pyc files for reuse, allowing for faster execution in subsequent runs.\n",
    "Interpreter in Python:\n",
    "\n",
    "The Python interpreter is responsible for executing the bytecode generated during the compilation phase.\n",
    "It reads and interprets the bytecode line by line, executing the instructions and performing the operations specified in the original Python script.\n",
    "The interpreter is a part of the Python runtime environment and is essential for running Python code on a specific machine.\n",
    "In Python, the roles of the compiler and interpreter are somewhat intertwined. The compilation to bytecode happens at runtime, and the interpreter executes the bytecode. This combination of compilation and interpretation contributes to the dynamic and flexible nature of Python. The compiled bytecode allows for platform independence, while the interpretation process ensures that Python code can be executed interactively and with dynamic features.\n",
    "\n",
    "In summary, in the context of Python:\n",
    "\n",
    "The compiler translates Python source code into bytecode.\n",
    "The interpreter executes the generated bytecode."
   ]
  },
  {
   "cell_type": "code",
   "execution_count": null,
   "id": "2b4ce353",
   "metadata": {},
   "outputs": [],
   "source": [
    "Python is often categorized as an interpreted language, but the reality is a bit more nuanced. It combines elements of both interpretation and compilation:\n",
    "\n",
    "Interpreted Language:\n",
    "\n",
    "Python is often considered an interpreted language because it doesn't require a separate compilation step before execution.\n",
    "When you run a Python script, the source code is translated into bytecode by the Python interpreter at runtime, and the bytecode is then executed.\n",
    "Compilation to Bytecode:\n",
    "\n",
    "The compilation step in Python involves translating the human-readable source code into an intermediate form called bytecode.\n",
    "This compilation to bytecode happens automatically at runtime, and the generated bytecode is stored in .pyc files for future use.\n",
    "Execution by Interpreter:\n",
    "\n",
    "The Python interpreter reads and executes the bytecode line by line.\n",
    "It converts the bytecode into machine code or runs it on the Python Virtual Machine (PVM) to produce the desired output.\n",
    "In summary, while Python is often referred to as an interpreted language due to its lack of a separate compilation step, it actually involves a form of compilation where the source code is translated to bytecode at runtime. This combination of compilation and interpretation contributes to Python's portability, as the bytecode can be executed on any machine with a compatible Python interpreter."
   ]
  },
  {
   "cell_type": "code",
   "execution_count": null,
   "id": "71cf4299",
   "metadata": {},
   "outputs": [],
   "source": [
    "write a usecase of python with your understanding \n",
    "\n",
    "Use Case: Web Development with Django\n",
    "\n",
    "Scenario:\n",
    "Imagine you are tasked with developing a dynamic and scalable web application for an e-commerce platform. The application needs to handle user authentication, product listings, shopping cart functionality, and more.\n",
    "\n",
    "Python Role:\n",
    "You decide to use Python for web development, and specifically, leverage the Django web framework.\n",
    "\n",
    "Steps:\n",
    "\n",
    "Django Installation:\n",
    "\n",
    "Use Python's package manager, pip, to install the Django framework: pip install django\n",
    "Project Setup:\n",
    "\n",
    "Create a new Django project and set up the necessary configurations: django-admin startproject ecommerce_project\n",
    "App Creation:\n",
    "\n",
    "Develop different components of the application by creating Django apps, such as authentication, products, and cart.\n",
    "Database Modeling:\n",
    "\n",
    "Define models for the database to represent entities like users, products, and orders.\n",
    "Views and Templates:\n",
    "\n",
    "Create views to handle user requests and render HTML templates for different pages.\n",
    "User Authentication:\n",
    "\n",
    "Utilize Django's built-in authentication system for secure user registration, login, and logout functionalities.\n",
    "Product Listings:\n",
    "\n",
    "Implement views and templates to display a list of products, along with details like pricing and images.\n",
    "Shopping Cart:\n",
    "\n",
    "Develop functionality to manage a user's shopping cart, allowing them to add or remove items.\n",
    "Integration with Frontend:\n",
    "\n",
    "Combine Python (Django) with frontend technologies like HTML, CSS, and JavaScript to create a responsive and user-friendly interface.\n",
    "Testing and Deployment:\n",
    "\n",
    "Write unit tests for different components of the application to ensure reliability.\n",
    "Deploy the web application to a server using platforms like Heroku or AWS.\n",
    "Advantages of Using Python for this Use Case:\n",
    "\n",
    "Rapid Development: Python, especially with Django, allows for rapid development, enabling you to build features quickly.\n",
    "Extensive Libraries: Python has a rich ecosystem of libraries and frameworks, making it easy to integrate additional functionality.\n",
    "Scalability: Django is designed to scale, making it suitable for applications of varying sizes.\n",
    "Community Support: Python has a large and active community, providing resources and support for developers.\n",
    "This use case highlights Python's suitability for web development, particularly with frameworks like Django, where its simplicity, readability, and extensive libraries contribute to an efficient and scalable solution."
   ]
  }
 ],
 "metadata": {
  "kernelspec": {
   "display_name": "Python 3",
   "language": "python",
   "name": "python3"
  },
  "language_info": {
   "codemirror_mode": {
    "name": "ipython",
    "version": 3
   },
   "file_extension": ".py",
   "mimetype": "text/x-python",
   "name": "python",
   "nbconvert_exporter": "python",
   "pygments_lexer": "ipython3",
   "version": "3.8.8"
  }
 },
 "nbformat": 4,
 "nbformat_minor": 5
}
