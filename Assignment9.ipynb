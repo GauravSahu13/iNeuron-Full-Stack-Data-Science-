{
  "nbformat": 4,
  "nbformat_minor": 0,
  "metadata": {
    "colab": {
      "provenance": []
    },
    "kernelspec": {
      "name": "python3",
      "display_name": "Python 3"
    },
    "language_info": {
      "name": "python"
    }
  },
  "cells": [
    {
      "cell_type": "markdown",
      "source": [
        "1. To what does a relative path refer?\n",
        "\n",
        "---> A path is a string of characters used to uniquely identify a location in a directory structure. It is composed by following the directory tree hierarchy in which components, separated by a delimiting character, represent each directory.\n",
        "\n"
      ],
      "metadata": {
        "id": "4aWpRR0kjyi3"
      }
    },
    {
      "cell_type": "markdown",
      "source": [
        "2. What does an absolute path start with your operating system?\n",
        "\n",
        "-->An absolute path is a path that contains the entire path to the file or directory that you need to access. This path will begin at the home directory of your computer and will end with the file or directory that you wish to access.\n",
        "\n",
        "To find an absolute path in Python you import the os module\n",
        "\n",
        "import os\n",
        "\n",
        "os.path.abspath(\"src/examplefile.txt\")\n"
      ],
      "metadata": {
        "id": "9fdtr04zkOQg"
      }
    },
    {
      "cell_type": "markdown",
      "source": [
        "3. What do the functions os.getcwd() and os.chdir() do?\n",
        "\n",
        "--->os.getcwd()= get current working directory.\n",
        "\n",
        "os.chdir()= A complete path of directory to be changed to new directory path.\n",
        "\n",
        "\n",
        "\n"
      ],
      "metadata": {
        "id": "OSL4iaOYmmRC"
      }
    },
    {
      "cell_type": "markdown",
      "source": [
        "4. What are the . and .. folders?\n",
        "\n",
        "--->.folders = same folder directory\n",
        "\n",
        "..folders= previous folder directory"
      ],
      "metadata": {
        "id": "I8Jqisntn2vo"
      }
    },
    {
      "cell_type": "markdown",
      "source": [],
      "metadata": {
        "id": "wow2QGH_oh8R"
      }
    },
    {
      "cell_type": "markdown",
      "source": [
        "5. In C:\\bacon\\eggs\\spam.txt, which part is the dir name, and which part is the base name?\n",
        "\n",
        "--->C:\\bacon\\eggs = dir name\n",
        "\n",
        "spam.txt = base name"
      ],
      "metadata": {
        "id": "hM8g6RtYoh_J"
      }
    },
    {
      "cell_type": "markdown",
      "source": [
        "6. What are the three “mode” arguments that can be passed to the open() function?\n",
        "\n",
        "--->file1 = open(\"test.txt\")      # equivalent to 'r' or 'rt'\n",
        "\n",
        "file1 = open(\"test.txt\",'w')  # write in text mode\n",
        "\n",
        "file1 = open(\"img.bmp\",'r+b') # read and write in binary mode"
      ],
      "metadata": {
        "id": "DavXJdtzoy4j"
      }
    },
    {
      "cell_type": "markdown",
      "source": [
        "7. What happens if an existing file is opened in write mode?\n",
        "\n",
        "---> If existing file is opened in \"w\" mode then the previous content will be overwritten. If it is opened in \"a\" mode then the new content will added to the end of the previous content. The data in existing files are modified and overwritten in write mode"
      ],
      "metadata": {
        "id": "on_IVrGDpr27"
      }
    },
    {
      "cell_type": "markdown",
      "source": [
        "8. How do you tell the difference between read() and readlines()?\n",
        "\n",
        "--->read() reads all of the file's contents into a string\n",
        "\n",
        "readlines()  reads just a single line from the file"
      ],
      "metadata": {
        "id": "g8hUNbzeqn69"
      }
    },
    {
      "cell_type": "markdown",
      "source": [
        "9. What data structure does a shelf value resemble?\n",
        "\n",
        "---> A shelf value resembles a dictionary value; it has keys and values, along with keys() and values() methods that work similarly to the dictionary methods of the same names."
      ],
      "metadata": {
        "id": "Wts4GmXRrSWg"
      }
    },
    {
      "cell_type": "markdown",
      "source": [],
      "metadata": {
        "id": "3RFwH3Ddmhfe"
      }
    }
  ]
}