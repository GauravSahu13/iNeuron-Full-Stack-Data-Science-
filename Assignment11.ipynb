{
  "nbformat": 4,
  "nbformat_minor": 0,
  "metadata": {
    "colab": {
      "provenance": []
    },
    "kernelspec": {
      "name": "python3",
      "display_name": "Python 3"
    },
    "language_info": {
      "name": "python"
    }
  },
  "cells": [
    {
      "cell_type": "markdown",
      "source": [
        "1. Create an assert statement that throws an AssertionError if the variable spam is a negative\n",
        "integer.\n",
        "--> assert(spam >= 10, 'The spam variable is less than 10. ')"
      ],
      "metadata": {
        "id": "bSC5evRNsO4Z"
      }
    },
    {
      "cell_type": "markdown",
      "source": [
        "2. Write an assert statement that triggers an AssertionError if the variables eggs and bacon contain\n",
        "strings that are the same as each other, even if their cases are different (that is, &#39;hello&#39; and &#39;hello&#39; are\n",
        "considered the same, and &#39;goodbye&#39; and &#39;GOODbye&#39; are also considered the same).\n",
        "-->assert(eggs.lower() != bacon.lower(), 'The eggs and bacon variables are the same!') or assert(eggs.upper() != bacon.upper(), 'The eggs and bacon variables are the same!')"
      ],
      "metadata": {
        "id": "iJ9Tl8ZstEHw"
      }
    },
    {
      "cell_type": "markdown",
      "source": [
        "3. Create an assert statement that throws an AssertionError every time.\n",
        "-->assert(False, 'This assertion always triggers.')\n"
      ],
      "metadata": {
        "id": "NsfwEsTGtVZP"
      }
    },
    {
      "cell_type": "markdown",
      "source": [
        "4. What are the two lines that must be present in your software in order to call logging.debug()?\n",
        "-->To be able to call logging.debug(), you must have these two lines at the start of your program: import logging logging.basicConfig(level=logging.DEBUG, format=' %(asctime)s - %(levelname)s - %(message)s')\n",
        "\n"
      ],
      "metadata": {
        "id": "wpbeifttt0EQ"
      }
    },
    {
      "cell_type": "markdown",
      "source": [
        "5. What are the five levels of logging?\n",
        "--->DEBUG, INFO, WARNING, ERROR, and CRITICAL"
      ],
      "metadata": {
        "id": "xBg0vXqKuJkq"
      }
    },
    {
      "cell_type": "markdown",
      "source": [
        "6. What are the differences between the Step Over, Step In, and Step Out buttons in the debugger?\n",
        "-->The Step button will move the debugger into a function call. The Over button will quickly execute the function call without stepping into it. The Out button will quickly execute the rest of the code until it steps out of the function it currently is in."
      ],
      "metadata": {
        "id": "uiAc05-wue7N"
      }
    },
    {
      "cell_type": "markdown",
      "source": [
        "7.After you click Continue, when will the debugger stop ?\n",
        "-->click Go, the debugger will stop when it has reached the end of the program or a line with a breakpoint."
      ],
      "metadata": {
        "id": "m6exsnKFuscA"
      }
    },
    {
      "cell_type": "markdown",
      "source": [
        "8. What is the concept of a breakpoint?\n",
        "--> breakpoint is a setting on a line of code that causes the debugger to pause when the program execution reaches the line, set a breakpoint in IDLE, right-click the line and select Set Breakpoint from the context menu."
      ],
      "metadata": {
        "id": "uqvM3gA2usiQ"
      }
    },
    {
      "cell_type": "code",
      "source": [],
      "metadata": {
        "id": "2d3B5hxEu-lW"
      },
      "execution_count": null,
      "outputs": []
    }
  ]
}