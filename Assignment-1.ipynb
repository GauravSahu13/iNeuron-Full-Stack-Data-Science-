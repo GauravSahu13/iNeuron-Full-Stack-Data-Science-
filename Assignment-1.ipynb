{
 "cells": [
  {
   "cell_type": "markdown",
   "id": "d10f5b61",
   "metadata": {},
   "source": [
    "1. In the below elements which of them are values or an expression? eg:- values can be\n",
    "integer or string and expressions will be mathematical operators.\n",
    "\n",
    "Value- 'hello',-87.8,6\n",
    "\n",
    "Expressions- *,-,/,+"
   ]
  },
  {
   "cell_type": "markdown",
   "id": "514ab72d",
   "metadata": {},
   "source": [
    "2. What is the difference between string and variable?\n",
    "\n",
    "Variables are symbolic name that is a reference to an object. Variable is a store of information whereas String is a type of information, so we can use them to fill up a variable.\n"
   ]
  },
  {
   "cell_type": "markdown",
   "id": "653faeec",
   "metadata": {},
   "source": [
    "3.Describe three different data types.\n",
    "\n",
    "String(str)- characters between \" \"\n",
    "\n",
    "Integers(int)-whole numbers, \n",
    "  Float(float)- decimal numbers\n",
    " \n",
    "Booleans(bool)- True/False"
   ]
  },
  {
   "cell_type": "markdown",
   "id": "1c3c7695",
   "metadata": {},
   "source": [
    "4. What is an expression made up of? What do all expressions do?\n",
    "\n",
    "An expression is a combination of operators and operands that is interpreted to produce some other value.Expressions are representations of value."
   ]
  },
  {
   "cell_type": "markdown",
   "id": "e683a73e",
   "metadata": {},
   "source": [
    "5. This assignment statements, like spam = 10. What is the difference between an\n",
    "expression and a statement?\n",
    "\n",
    "Expression is a combination of variables,operations and values that yields a result value where Statements represent an action or command e.g assignment statements(spam=10).Statement is an instruction that the python interpreter can execute."
   ]
  },
  {
   "cell_type": "markdown",
   "id": "441d1268",
   "metadata": {},
   "source": [
    "6. After running the following code, what does the variable bacon contain?\n",
    "bacon = 22\n",
    "bacon + 1"
   ]
  },
  {
   "cell_type": "markdown",
   "id": "446cffb1",
   "metadata": {},
   "source": [
    "23"
   ]
  },
  {
   "cell_type": "markdown",
   "id": "89a8f8a9",
   "metadata": {},
   "source": [
    "7. What should the values of the following two terms be?\n",
    "'spam' + 'spamspam'              \n",
    "'spam' * 3                       \n",
    "\n",
    "'spamspamspam'"
   ]
  },
  {
   "cell_type": "markdown",
   "id": "c19f2a5f",
   "metadata": {},
   "source": [
    "8. Why is eggs a valid variable name while 100 is invalid?\n",
    "\n",
    "100 is invalid variable because variables can not start with number it can start with aplhabet. "
   ]
  },
  {
   "cell_type": "markdown",
   "id": "629b2292",
   "metadata": {},
   "source": [
    "9. What three functions can be used to get the integer, floating-point number, or string\n",
    "version of a value?\n",
    "\n",
    "int(),float(),str()"
   ]
  },
  {
   "cell_type": "markdown",
   "id": "fca98ba2",
   "metadata": {},
   "source": [
    "10. Why does this expression cause an error? How can you fix it?\n",
    "&#39;I have eaten &#39; + 99 + &#39; burritos.&#39;\n",
    "\n",
    "This expression cause an error becoz we can't concatenate string with integer\n",
    "\n",
    "'I have eaten' + '99' + 'burrit'"
   ]
  },
  {
   "cell_type": "code",
   "execution_count": null,
   "id": "c4784f1b",
   "metadata": {},
   "outputs": [],
   "source": []
  }
 ],
 "metadata": {
  "kernelspec": {
   "display_name": "Python 3",
   "language": "python",
   "name": "python3"
  },
  "language_info": {
   "codemirror_mode": {
    "name": "ipython",
    "version": 3
   },
   "file_extension": ".py",
   "mimetype": "text/x-python",
   "name": "python",
   "nbconvert_exporter": "python",
   "pygments_lexer": "ipython3",
   "version": "3.8.8"
  }
 },
 "nbformat": 4,
 "nbformat_minor": 5
}
